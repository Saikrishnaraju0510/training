{
 "cells": [
  {
   "cell_type": "code",
   "execution_count": 1,
   "id": "71b34bdf",
   "metadata": {},
   "outputs": [],
   "source": [
    "#list\n",
    "l1=[1,2,3.6,'tom',['fog','cat']]\n",
    "l2=[1,56,89,'jerry']"
   ]
  },
  {
   "cell_type": "code",
   "execution_count": 2,
   "id": "0322aadf",
   "metadata": {},
   "outputs": [],
   "source": [
    "l1.append(l2)"
   ]
  },
  {
   "cell_type": "code",
   "execution_count": 3,
   "id": "62b5aaac",
   "metadata": {},
   "outputs": [
    {
     "data": {
      "text/plain": [
       "[1, 2, 3.6, 'tom', ['fog', 'cat'], [1, 56, 89, 'jerry']]"
      ]
     },
     "execution_count": 3,
     "metadata": {},
     "output_type": "execute_result"
    }
   ],
   "source": [
    "l1"
   ]
  },
  {
   "cell_type": "code",
   "execution_count": 4,
   "id": "2434ccec",
   "metadata": {},
   "outputs": [
    {
     "data": {
      "text/plain": [
       "[1, 56, 89, 'jerry']"
      ]
     },
     "execution_count": 4,
     "metadata": {},
     "output_type": "execute_result"
    }
   ],
   "source": [
    "l1.pop()"
   ]
  },
  {
   "cell_type": "code",
   "execution_count": 5,
   "id": "681afa04",
   "metadata": {},
   "outputs": [
    {
     "data": {
      "text/plain": [
       "[1, 2, 3.6, 'tom', ['fog', 'cat']]"
      ]
     },
     "execution_count": 5,
     "metadata": {},
     "output_type": "execute_result"
    }
   ],
   "source": [
    "l1"
   ]
  },
  {
   "cell_type": "code",
   "execution_count": 12,
   "id": "b065c67a",
   "metadata": {},
   "outputs": [
    {
     "data": {
      "text/plain": [
       "[]"
      ]
     },
     "execution_count": 12,
     "metadata": {},
     "output_type": "execute_result"
    }
   ],
   "source": [
    "l3=[]\n",
    "l3.copy()"
   ]
  },
  {
   "cell_type": "code",
   "execution_count": 16,
   "id": "b8f996ab",
   "metadata": {},
   "outputs": [
    {
     "data": {
      "text/plain": [
       "1"
      ]
     },
     "execution_count": 16,
     "metadata": {},
     "output_type": "execute_result"
    }
   ],
   "source": [
    "l1.count('tom')"
   ]
  },
  {
   "cell_type": "code",
   "execution_count": 17,
   "id": "cbd86173",
   "metadata": {},
   "outputs": [],
   "source": [
    "l1.extend([23.3,44,'elephant'])"
   ]
  },
  {
   "cell_type": "code",
   "execution_count": 18,
   "id": "ac4c4806",
   "metadata": {},
   "outputs": [
    {
     "data": {
      "text/plain": [
       "[1, 2, 3.6, 'tom', ['fog', 'cat'], 23.3, 44, 'elephant']"
      ]
     },
     "execution_count": 18,
     "metadata": {},
     "output_type": "execute_result"
    }
   ],
   "source": [
    "l1"
   ]
  },
  {
   "cell_type": "code",
   "execution_count": 27,
   "id": "f2e51796",
   "metadata": {},
   "outputs": [],
   "source": [
    "l3.extend([1,2,4,67,56,88,43,23])"
   ]
  },
  {
   "cell_type": "code",
   "execution_count": 28,
   "id": "3ef3c4e3",
   "metadata": {},
   "outputs": [
    {
     "data": {
      "text/plain": [
       "[1, 2, 4, 67, 56, 88, 43, 23]"
      ]
     },
     "execution_count": 28,
     "metadata": {},
     "output_type": "execute_result"
    }
   ],
   "source": [
    "l3"
   ]
  },
  {
   "cell_type": "code",
   "execution_count": 29,
   "id": "f1a311d9",
   "metadata": {},
   "outputs": [],
   "source": [
    "l3.sort()"
   ]
  },
  {
   "cell_type": "code",
   "execution_count": 30,
   "id": "72a32cb4",
   "metadata": {},
   "outputs": [
    {
     "data": {
      "text/plain": [
       "[1, 2, 4, 23, 43, 56, 67, 88]"
      ]
     },
     "execution_count": 30,
     "metadata": {},
     "output_type": "execute_result"
    }
   ],
   "source": [
    "l3"
   ]
  },
  {
   "cell_type": "code",
   "execution_count": 31,
   "id": "df000808",
   "metadata": {},
   "outputs": [],
   "source": [
    "l3.clear()"
   ]
  },
  {
   "cell_type": "code",
   "execution_count": 32,
   "id": "706d5d04",
   "metadata": {},
   "outputs": [
    {
     "data": {
      "text/plain": [
       "[]"
      ]
     },
     "execution_count": 32,
     "metadata": {},
     "output_type": "execute_result"
    }
   ],
   "source": [
    "l3"
   ]
  },
  {
   "cell_type": "code",
   "execution_count": 33,
   "id": "a8cb5813",
   "metadata": {},
   "outputs": [
    {
     "data": {
      "text/plain": [
       "2"
      ]
     },
     "execution_count": 33,
     "metadata": {},
     "output_type": "execute_result"
    }
   ],
   "source": [
    "l1[1]"
   ]
  },
  {
   "cell_type": "code",
   "execution_count": 34,
   "id": "e0a3e5a6",
   "metadata": {},
   "outputs": [
    {
     "data": {
      "text/plain": [
       "[2, 3.6, 'tom', ['fog', 'cat'], 23.3, 44]"
      ]
     },
     "execution_count": 34,
     "metadata": {},
     "output_type": "execute_result"
    }
   ],
   "source": [
    "l1[1:-1]"
   ]
  },
  {
   "cell_type": "code",
   "execution_count": 37,
   "id": "0143d8a3",
   "metadata": {},
   "outputs": [
    {
     "data": {
      "text/plain": [
       "8"
      ]
     },
     "execution_count": 37,
     "metadata": {},
     "output_type": "execute_result"
    }
   ],
   "source": [
    "len(l1)"
   ]
  },
  {
   "cell_type": "code",
   "execution_count": 40,
   "id": "934024cf",
   "metadata": {},
   "outputs": [
    {
     "name": "stdout",
     "output_type": "stream",
     "text": [
      "1 is of type <class 'int'>\n",
      "2 is of type <class 'int'>\n",
      "3.6 is of type <class 'float'>\n",
      "tom is of type <class 'str'>\n",
      "['fog', 'cat'] is of type <class 'list'>\n",
      "23.3 is of type <class 'float'>\n",
      "44 is of type <class 'int'>\n"
     ]
    }
   ],
   "source": [
    "for i in range(len(l1)-1):\n",
    "    print(\"{} is of type {}\".format(l1[i],type(l1[i])))"
   ]
  },
  {
   "cell_type": "code",
   "execution_count": 50,
   "id": "6647934a",
   "metadata": {},
   "outputs": [],
   "source": [
    "l2.remove(l2[1])"
   ]
  },
  {
   "cell_type": "code",
   "execution_count": 51,
   "id": "d53496fd",
   "metadata": {},
   "outputs": [
    {
     "data": {
      "text/plain": [
       "[1, 89]"
      ]
     },
     "execution_count": 51,
     "metadata": {},
     "output_type": "execute_result"
    }
   ],
   "source": [
    "l2"
   ]
  },
  {
   "cell_type": "code",
   "execution_count": 52,
   "id": "81d0aa0b",
   "metadata": {},
   "outputs": [
    {
     "data": {
      "text/plain": [
       "[89, 1]"
      ]
     },
     "execution_count": 52,
     "metadata": {},
     "output_type": "execute_result"
    }
   ],
   "source": [
    "l2.reverse()\n",
    "l2"
   ]
  },
  {
   "cell_type": "code",
   "execution_count": 53,
   "id": "acfba4bc",
   "metadata": {},
   "outputs": [
    {
     "data": {
      "text/plain": [
       "['elephant', 44, 23.3, ['fog', 'cat'], 'tom', 3.6, 2, 1]"
      ]
     },
     "execution_count": 53,
     "metadata": {},
     "output_type": "execute_result"
    }
   ],
   "source": [
    "l1[::-1]"
   ]
  },
  {
   "cell_type": "code",
   "execution_count": 54,
   "id": "40f0ce05",
   "metadata": {},
   "outputs": [
    {
     "data": {
      "text/plain": [
       "[2, 'tom', 23.3]"
      ]
     },
     "execution_count": 54,
     "metadata": {},
     "output_type": "execute_result"
    }
   ],
   "source": [
    "l1[1:-1:2]"
   ]
  },
  {
   "cell_type": "code",
   "execution_count": 55,
   "id": "613999a0",
   "metadata": {},
   "outputs": [],
   "source": [
    "#tuple\n",
    "t1=(1,99,53.6,'jerry','dog',('tom','cat'))\n",
    "t2=(33.6,24,55,89,76)"
   ]
  },
  {
   "cell_type": "code",
   "execution_count": 56,
   "id": "73797d61",
   "metadata": {},
   "outputs": [
    {
     "data": {
      "text/plain": [
       "(1, 99, 53.6, 'jerry', 'dog', ('tom', 'cat'), 33.6, 24, 55, 89, 76)"
      ]
     },
     "execution_count": 56,
     "metadata": {},
     "output_type": "execute_result"
    }
   ],
   "source": [
    "t1+t2"
   ]
  },
  {
   "cell_type": "code",
   "execution_count": 58,
   "id": "4c94388f",
   "metadata": {},
   "outputs": [
    {
     "data": {
      "text/plain": [
       "1"
      ]
     },
     "execution_count": 58,
     "metadata": {},
     "output_type": "execute_result"
    }
   ],
   "source": [
    "t1.count(99)"
   ]
  },
  {
   "cell_type": "code",
   "execution_count": 60,
   "id": "57a4ebf1",
   "metadata": {},
   "outputs": [
    {
     "data": {
      "text/plain": [
       "2"
      ]
     },
     "execution_count": 60,
     "metadata": {},
     "output_type": "execute_result"
    }
   ],
   "source": [
    "t1.index(53.6)"
   ]
  },
  {
   "cell_type": "code",
   "execution_count": 61,
   "id": "8a308ad4",
   "metadata": {},
   "outputs": [
    {
     "name": "stdout",
     "output_type": "stream",
     "text": [
      "<class 'str'>\n",
      "<class 'tuple'>\n"
     ]
    }
   ],
   "source": [
    "t3=(\"hi\")\n",
    "t4=(\"hello\",)\n",
    "print(type(t3))\n",
    "print(type(t4))"
   ]
  },
  {
   "cell_type": "code",
   "execution_count": 62,
   "id": "94e22a11",
   "metadata": {},
   "outputs": [
    {
     "data": {
      "text/plain": [
       "99"
      ]
     },
     "execution_count": 62,
     "metadata": {},
     "output_type": "execute_result"
    }
   ],
   "source": [
    "t1[1]"
   ]
  },
  {
   "cell_type": "code",
   "execution_count": 63,
   "id": "48497b84",
   "metadata": {},
   "outputs": [
    {
     "data": {
      "text/plain": [
       "(99, 53.6)"
      ]
     },
     "execution_count": 63,
     "metadata": {},
     "output_type": "execute_result"
    }
   ],
   "source": [
    "t1[1:3]"
   ]
  },
  {
   "cell_type": "code",
   "execution_count": 64,
   "id": "a5101aba",
   "metadata": {},
   "outputs": [
    {
     "data": {
      "text/plain": [
       "('tom', 'cat')"
      ]
     },
     "execution_count": 64,
     "metadata": {},
     "output_type": "execute_result"
    }
   ],
   "source": [
    "t1[-1]"
   ]
  },
  {
   "cell_type": "code",
   "execution_count": 66,
   "id": "ce423ad6",
   "metadata": {},
   "outputs": [
    {
     "data": {
      "text/plain": [
       "'tom'"
      ]
     },
     "execution_count": 66,
     "metadata": {},
     "output_type": "execute_result"
    }
   ],
   "source": [
    "t1[-1][-2]"
   ]
  },
  {
   "cell_type": "code",
   "execution_count": 67,
   "id": "71b2efb7",
   "metadata": {},
   "outputs": [
    {
     "ename": "NameError",
     "evalue": "name 't2' is not defined",
     "output_type": "error",
     "traceback": [
      "\u001b[1;31m---------------------------------------------------------------------------\u001b[0m",
      "\u001b[1;31mNameError\u001b[0m                                 Traceback (most recent call last)",
      "\u001b[1;32m<ipython-input-67-b820af313c77>\u001b[0m in \u001b[0;36m<module>\u001b[1;34m\u001b[0m\n\u001b[0;32m      1\u001b[0m \u001b[1;32mdel\u001b[0m \u001b[0mt2\u001b[0m\u001b[1;33m\u001b[0m\u001b[1;33m\u001b[0m\u001b[0m\n\u001b[1;32m----> 2\u001b[1;33m \u001b[0mt2\u001b[0m\u001b[1;33m\u001b[0m\u001b[1;33m\u001b[0m\u001b[0m\n\u001b[0m",
      "\u001b[1;31mNameError\u001b[0m: name 't2' is not defined"
     ]
    }
   ],
   "source": [
    "del t2\n",
    "t2"
   ]
  },
  {
   "cell_type": "code",
   "execution_count": 68,
   "id": "ae11873d",
   "metadata": {},
   "outputs": [],
   "source": [
    "#set\n",
    "s1={1,4,67,3.5,89,89,2,3,4}"
   ]
  },
  {
   "cell_type": "code",
   "execution_count": 69,
   "id": "4a465bd5",
   "metadata": {},
   "outputs": [
    {
     "data": {
      "text/plain": [
       "{1, 2, 3, 3.5, 4, 67, 89}"
      ]
     },
     "execution_count": 69,
     "metadata": {},
     "output_type": "execute_result"
    }
   ],
   "source": [
    "s1"
   ]
  },
  {
   "cell_type": "code",
   "execution_count": 71,
   "id": "4d0b7431",
   "metadata": {},
   "outputs": [],
   "source": [
    "s2={'tom','jerry',1,56,89.1,'dog',34,'cat'}"
   ]
  },
  {
   "cell_type": "code",
   "execution_count": 72,
   "id": "20732dac",
   "metadata": {},
   "outputs": [
    {
     "data": {
      "text/plain": [
       "{1, 34, 56, 89.1, 'cat', 'dog', 'jerry', 'tom'}"
      ]
     },
     "execution_count": 72,
     "metadata": {},
     "output_type": "execute_result"
    }
   ],
   "source": [
    "s2"
   ]
  },
  {
   "cell_type": "code",
   "execution_count": 73,
   "id": "f9b6221c",
   "metadata": {},
   "outputs": [
    {
     "data": {
      "text/plain": [
       "set()"
      ]
     },
     "execution_count": 73,
     "metadata": {},
     "output_type": "execute_result"
    }
   ],
   "source": [
    "s3=set()\n",
    "s3"
   ]
  },
  {
   "cell_type": "code",
   "execution_count": 75,
   "id": "23924c17",
   "metadata": {},
   "outputs": [
    {
     "data": {
      "text/plain": [
       "{1, 9, 56, 96.1}"
      ]
     },
     "execution_count": 75,
     "metadata": {},
     "output_type": "execute_result"
    }
   ],
   "source": [
    "s4=set([1,56,9,96.1])\n",
    "s4"
   ]
  },
  {
   "cell_type": "code",
   "execution_count": 76,
   "id": "1cd71132",
   "metadata": {},
   "outputs": [],
   "source": [
    "s5=set(t1)"
   ]
  },
  {
   "cell_type": "code",
   "execution_count": 77,
   "id": "85fbc3bd",
   "metadata": {},
   "outputs": [
    {
     "data": {
      "text/plain": [
       "{('tom', 'cat'), 1, 53.6, 99, 'dog', 'jerry'}"
      ]
     },
     "execution_count": 77,
     "metadata": {},
     "output_type": "execute_result"
    }
   ],
   "source": [
    "s5"
   ]
  },
  {
   "cell_type": "code",
   "execution_count": 80,
   "id": "af5f6bc0",
   "metadata": {},
   "outputs": [],
   "source": [
    "s5.add(5)"
   ]
  },
  {
   "cell_type": "code",
   "execution_count": 81,
   "id": "787f8953",
   "metadata": {},
   "outputs": [],
   "source": [
    "s5.update(s4)"
   ]
  },
  {
   "cell_type": "code",
   "execution_count": 82,
   "id": "f8241f9e",
   "metadata": {},
   "outputs": [
    {
     "data": {
      "text/plain": [
       "{('tom', 'cat'), 1, 5, 53.6, 56, 9, 96.1, 99, 'dog', 'jerry'}"
      ]
     },
     "execution_count": 82,
     "metadata": {},
     "output_type": "execute_result"
    }
   ],
   "source": [
    "s5"
   ]
  },
  {
   "cell_type": "code",
   "execution_count": 84,
   "id": "b9f547ff",
   "metadata": {},
   "outputs": [],
   "source": [
    "s5.discard(1)"
   ]
  },
  {
   "cell_type": "code",
   "execution_count": 85,
   "id": "7aef0c5f",
   "metadata": {},
   "outputs": [
    {
     "data": {
      "text/plain": [
       "{('tom', 'cat'), 5, 53.6, 56, 9, 96.1, 99, 'dog', 'jerry'}"
      ]
     },
     "execution_count": 85,
     "metadata": {},
     "output_type": "execute_result"
    }
   ],
   "source": [
    "s5"
   ]
  },
  {
   "cell_type": "code",
   "execution_count": 86,
   "id": "eb1f5976",
   "metadata": {},
   "outputs": [
    {
     "data": {
      "text/plain": [
       "False"
      ]
     },
     "execution_count": 86,
     "metadata": {},
     "output_type": "execute_result"
    }
   ],
   "source": [
    "s5.issubset(s1)"
   ]
  },
  {
   "cell_type": "code",
   "execution_count": 87,
   "id": "aa810384",
   "metadata": {},
   "outputs": [
    {
     "data": {
      "text/plain": [
       "('tom', 'cat')"
      ]
     },
     "execution_count": 87,
     "metadata": {},
     "output_type": "execute_result"
    }
   ],
   "source": [
    "s5.pop()"
   ]
  },
  {
   "cell_type": "code",
   "execution_count": 88,
   "id": "66ebd78c",
   "metadata": {},
   "outputs": [],
   "source": [
    "s6=s5.union(s4)"
   ]
  },
  {
   "cell_type": "code",
   "execution_count": 89,
   "id": "5e673a6d",
   "metadata": {},
   "outputs": [
    {
     "data": {
      "text/plain": [
       "{1, 5, 53.6, 56, 9, 96.1, 99, 'dog', 'jerry'}"
      ]
     },
     "execution_count": 89,
     "metadata": {},
     "output_type": "execute_result"
    }
   ],
   "source": [
    "s6"
   ]
  },
  {
   "cell_type": "code",
   "execution_count": 90,
   "id": "a3014458",
   "metadata": {},
   "outputs": [
    {
     "data": {
      "text/plain": [
       "True"
      ]
     },
     "execution_count": 90,
     "metadata": {},
     "output_type": "execute_result"
    }
   ],
   "source": [
    "s6.issuperset(s5)"
   ]
  },
  {
   "cell_type": "code",
   "execution_count": 91,
   "id": "5609122b",
   "metadata": {},
   "outputs": [
    {
     "data": {
      "text/plain": [
       "True"
      ]
     },
     "execution_count": 91,
     "metadata": {},
     "output_type": "execute_result"
    }
   ],
   "source": [
    "s5.issubset(s6)"
   ]
  },
  {
   "cell_type": "code",
   "execution_count": 94,
   "id": "f6be2178",
   "metadata": {},
   "outputs": [
    {
     "data": {
      "text/plain": [
       "{5, 53.6, 56, 9, 96.1, 99, 'dog', 'jerry'}"
      ]
     },
     "execution_count": 94,
     "metadata": {},
     "output_type": "execute_result"
    }
   ],
   "source": [
    "s5.intersection(s6)"
   ]
  },
  {
   "cell_type": "code",
   "execution_count": 95,
   "id": "177f98d1",
   "metadata": {},
   "outputs": [
    {
     "data": {
      "text/plain": [
       "{9, 56, 96.1}"
      ]
     },
     "execution_count": 95,
     "metadata": {},
     "output_type": "execute_result"
    }
   ],
   "source": [
    "s5.intersection(s4)"
   ]
  },
  {
   "cell_type": "code",
   "execution_count": 97,
   "id": "1fafd52d",
   "metadata": {},
   "outputs": [],
   "source": [
    "s1.remove(1)"
   ]
  },
  {
   "cell_type": "code",
   "execution_count": 98,
   "id": "38fdfb71",
   "metadata": {},
   "outputs": [
    {
     "data": {
      "text/plain": [
       "{2, 3, 3.5, 4, 67, 89}"
      ]
     },
     "execution_count": 98,
     "metadata": {},
     "output_type": "execute_result"
    }
   ],
   "source": [
    "s1"
   ]
  },
  {
   "cell_type": "code",
   "execution_count": 99,
   "id": "650b3e2d",
   "metadata": {},
   "outputs": [],
   "source": [
    "del s2"
   ]
  },
  {
   "cell_type": "code",
   "execution_count": 100,
   "id": "89a6556a",
   "metadata": {},
   "outputs": [
    {
     "ename": "NameError",
     "evalue": "name 's2' is not defined",
     "output_type": "error",
     "traceback": [
      "\u001b[1;31m---------------------------------------------------------------------------\u001b[0m",
      "\u001b[1;31mNameError\u001b[0m                                 Traceback (most recent call last)",
      "\u001b[1;32m<ipython-input-100-630081a5992e>\u001b[0m in \u001b[0;36m<module>\u001b[1;34m\u001b[0m\n\u001b[1;32m----> 1\u001b[1;33m \u001b[0ms2\u001b[0m\u001b[1;33m\u001b[0m\u001b[1;33m\u001b[0m\u001b[0m\n\u001b[0m",
      "\u001b[1;31mNameError\u001b[0m: name 's2' is not defined"
     ]
    }
   ],
   "source": [
    "s2"
   ]
  },
  {
   "cell_type": "code",
   "execution_count": 101,
   "id": "d7d179b1",
   "metadata": {},
   "outputs": [
    {
     "data": {
      "text/plain": [
       "{2, 3, 3.5, 4, 67, 89}"
      ]
     },
     "execution_count": 101,
     "metadata": {},
     "output_type": "execute_result"
    }
   ],
   "source": [
    "s1.difference(s4)"
   ]
  },
  {
   "cell_type": "code",
   "execution_count": 102,
   "id": "068af8fc",
   "metadata": {},
   "outputs": [
    {
     "data": {
      "text/plain": [
       "{2, 3, 3.5, 4, 67, 89}"
      ]
     },
     "execution_count": 102,
     "metadata": {},
     "output_type": "execute_result"
    }
   ],
   "source": [
    "s1.symmetric_difference(s3)"
   ]
  },
  {
   "cell_type": "code",
   "execution_count": 103,
   "id": "0f5d3a9d",
   "metadata": {},
   "outputs": [],
   "source": [
    "s3.symmetric_difference_update(s1)"
   ]
  },
  {
   "cell_type": "code",
   "execution_count": 104,
   "id": "b91cf341",
   "metadata": {},
   "outputs": [
    {
     "data": {
      "text/plain": [
       "{2, 3, 3.5, 4, 67, 89}"
      ]
     },
     "execution_count": 104,
     "metadata": {},
     "output_type": "execute_result"
    }
   ],
   "source": [
    "s3"
   ]
  },
  {
   "cell_type": "code",
   "execution_count": 105,
   "id": "1c8fc3b5",
   "metadata": {},
   "outputs": [
    {
     "data": {
      "text/plain": [
       "168.5"
      ]
     },
     "execution_count": 105,
     "metadata": {},
     "output_type": "execute_result"
    }
   ],
   "source": [
    "sum(s3)"
   ]
  },
  {
   "cell_type": "code",
   "execution_count": 106,
   "id": "d66e3494",
   "metadata": {},
   "outputs": [
    {
     "data": {
      "text/plain": [
       "True"
      ]
     },
     "execution_count": 106,
     "metadata": {},
     "output_type": "execute_result"
    }
   ],
   "source": [
    "all(s3)"
   ]
  },
  {
   "cell_type": "code",
   "execution_count": 107,
   "id": "ad4cee0a",
   "metadata": {},
   "outputs": [
    {
     "data": {
      "text/plain": [
       "False"
      ]
     },
     "execution_count": 107,
     "metadata": {},
     "output_type": "execute_result"
    }
   ],
   "source": [
    "not all(s3)"
   ]
  },
  {
   "cell_type": "code",
   "execution_count": 108,
   "id": "a28cb024",
   "metadata": {},
   "outputs": [
    {
     "data": {
      "text/plain": [
       "89"
      ]
     },
     "execution_count": 108,
     "metadata": {},
     "output_type": "execute_result"
    }
   ],
   "source": [
    "max(s3)"
   ]
  },
  {
   "cell_type": "code",
   "execution_count": 109,
   "id": "7bb01d8e",
   "metadata": {},
   "outputs": [
    {
     "data": {
      "text/plain": [
       "2"
      ]
     },
     "execution_count": 109,
     "metadata": {},
     "output_type": "execute_result"
    }
   ],
   "source": [
    "min(s3)"
   ]
  },
  {
   "cell_type": "code",
   "execution_count": 112,
   "id": "6b2e66d1",
   "metadata": {},
   "outputs": [],
   "source": [
    "e1=enumerate(s3)"
   ]
  },
  {
   "cell_type": "code",
   "execution_count": 114,
   "id": "07fcd740",
   "metadata": {},
   "outputs": [
    {
     "data": {
      "text/plain": [
       "[(0, 2), (1, 67), (2, 3), (3, 3.5), (4, 4), (5, 89)]"
      ]
     },
     "execution_count": 114,
     "metadata": {},
     "output_type": "execute_result"
    }
   ],
   "source": [
    "list(e1)"
   ]
  },
  {
   "cell_type": "code",
   "execution_count": 115,
   "id": "000a615e",
   "metadata": {},
   "outputs": [],
   "source": [
    "s6=frozenset(s1)"
   ]
  },
  {
   "cell_type": "code",
   "execution_count": 116,
   "id": "bedab201",
   "metadata": {},
   "outputs": [
    {
     "data": {
      "text/plain": [
       "frozenset({2, 3, 3.5, 4, 67, 89})"
      ]
     },
     "execution_count": 116,
     "metadata": {},
     "output_type": "execute_result"
    }
   ],
   "source": [
    "s6"
   ]
  },
  {
   "cell_type": "code",
   "execution_count": 118,
   "id": "0f698851",
   "metadata": {},
   "outputs": [
    {
     "data": {
      "text/plain": [
       "True"
      ]
     },
     "execution_count": 118,
     "metadata": {},
     "output_type": "execute_result"
    }
   ],
   "source": [
    "s6.issubset(s1)"
   ]
  },
  {
   "cell_type": "code",
   "execution_count": null,
   "id": "e2d808e8",
   "metadata": {},
   "outputs": [],
   "source": []
  }
 ],
 "metadata": {
  "kernelspec": {
   "display_name": "Python 3",
   "language": "python",
   "name": "python3"
  },
  "language_info": {
   "codemirror_mode": {
    "name": "ipython",
    "version": 3
   },
   "file_extension": ".py",
   "mimetype": "text/x-python",
   "name": "python",
   "nbconvert_exporter": "python",
   "pygments_lexer": "ipython3",
   "version": "3.8.8"
  }
 },
 "nbformat": 4,
 "nbformat_minor": 5
}
