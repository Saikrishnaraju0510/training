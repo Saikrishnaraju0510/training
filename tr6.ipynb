{
 "cells": [
  {
   "cell_type": "code",
   "execution_count": 4,
   "id": "d5fd518a",
   "metadata": {},
   "outputs": [
    {
     "name": "stdout",
     "output_type": "stream",
     "text": [
      "tom is a student of class 10\n"
     ]
    }
   ],
   "source": [
    "#functions\n",
    "def findstudent(name):\n",
    "    if name in ('tom','krish','henry','mark','tata'):\n",
    "        print(\"{} is a student of class 10\".format(name))\n",
    "    else:\n",
    "        print(\"{} is not a student of class 10\".format(name))\n",
    "findstudent('tom')"
   ]
  },
  {
   "cell_type": "code",
   "execution_count": 2,
   "id": "a43b7088",
   "metadata": {},
   "outputs": [
    {
     "name": "stdout",
     "output_type": "stream",
     "text": [
      "enter the student namekrish\n",
      "krish is a student of class 10\n"
     ]
    }
   ],
   "source": [
    "findstudent(input(\"enter the student name\"))"
   ]
  },
  {
   "cell_type": "code",
   "execution_count": 5,
   "id": "fef162cb",
   "metadata": {},
   "outputs": [
    {
     "name": "stdout",
     "output_type": "stream",
     "text": [
      "enter the student namejerry\n",
      "jerry is not a student of class 10\n"
     ]
    }
   ],
   "source": [
    "findstudent(input(\"enter the student name\"))"
   ]
  },
  {
   "cell_type": "code",
   "execution_count": 7,
   "id": "da063904",
   "metadata": {},
   "outputs": [
    {
     "data": {
      "text/plain": [
       "int"
      ]
     },
     "execution_count": 7,
     "metadata": {},
     "output_type": "execute_result"
    }
   ],
   "source": [
    "type(4)"
   ]
  },
  {
   "cell_type": "code",
   "execution_count": 10,
   "id": "adca4531",
   "metadata": {},
   "outputs": [
    {
     "data": {
      "text/plain": [
       "'B'"
      ]
     },
     "execution_count": 10,
     "metadata": {},
     "output_type": "execute_result"
    }
   ],
   "source": [
    "chr(66)"
   ]
  },
  {
   "cell_type": "code",
   "execution_count": 12,
   "id": "1000d30d",
   "metadata": {},
   "outputs": [
    {
     "data": {
      "text/plain": [
       "168"
      ]
     },
     "execution_count": 12,
     "metadata": {},
     "output_type": "execute_result"
    }
   ],
   "source": [
    "sum([25,65,45,33,0])"
   ]
  },
  {
   "cell_type": "code",
   "execution_count": 19,
   "id": "e54e7995",
   "metadata": {},
   "outputs": [
    {
     "data": {
      "text/plain": [
       "True"
      ]
     },
     "execution_count": 19,
     "metadata": {},
     "output_type": "execute_result"
    }
   ],
   "source": [
    "bool(1)"
   ]
  },
  {
   "cell_type": "code",
   "execution_count": 20,
   "id": "366ec64c",
   "metadata": {},
   "outputs": [
    {
     "data": {
      "text/plain": [
       "False"
      ]
     },
     "execution_count": 20,
     "metadata": {},
     "output_type": "execute_result"
    }
   ],
   "source": [
    "bool(0)"
   ]
  },
  {
   "cell_type": "code",
   "execution_count": 21,
   "id": "3d798132",
   "metadata": {},
   "outputs": [
    {
     "data": {
      "text/plain": [
       "True"
      ]
     },
     "execution_count": 21,
     "metadata": {},
     "output_type": "execute_result"
    }
   ],
   "source": [
    "any([0,23])"
   ]
  },
  {
   "cell_type": "code",
   "execution_count": 23,
   "id": "987a3782",
   "metadata": {},
   "outputs": [
    {
     "data": {
      "text/plain": [
       "False"
      ]
     },
     "execution_count": 23,
     "metadata": {},
     "output_type": "execute_result"
    }
   ],
   "source": [
    "all([0,23])"
   ]
  },
  {
   "cell_type": "code",
   "execution_count": 32,
   "id": "1224a93d",
   "metadata": {},
   "outputs": [
    {
     "name": "stdout",
     "output_type": "stream",
     "text": [
      "mark is a student of class 10\n",
      "sai is not a student of class 10\n",
      "biden is not a student of class 10\n",
      "tata is a student of class 10\n"
     ]
    }
   ],
   "source": [
    "def findstudent(*name):\n",
    "    for name in name:\n",
    "        if name in ('tom','krish','henry','mark','tata'):\n",
    "            print(\"{} is a student of class 10\".format(name))\n",
    "        else:\n",
    "            print(\"{} is not a student of class 10\".format(name))\n",
    "findstudent('mark','sai','biden','tata')"
   ]
  },
  {
   "cell_type": "code",
   "execution_count": 41,
   "id": "7662909a",
   "metadata": {},
   "outputs": [
    {
     "name": "stdout",
     "output_type": "stream",
     "text": [
      "1\n",
      "\n",
      "2\n",
      "\n",
      "3\n",
      "\n",
      "4\n",
      "\n",
      "5\n",
      "\n",
      "6\n",
      "\n",
      "7\n",
      "\n",
      "8\n",
      "\n",
      "9\n",
      "\n",
      "10\n",
      "\n"
     ]
    }
   ],
   "source": [
    "def print1ton(n):\n",
    "    if (n==1):\n",
    "        print(\"{}\\n\".format(n))\n",
    "    else:\n",
    "        print1ton(n-1)\n",
    "        print(\"{}\\n\".format(n))\n",
    "print1ton(10)\n",
    "              "
   ]
  },
  {
   "cell_type": "code",
   "execution_count": 43,
   "id": "083a54ec",
   "metadata": {},
   "outputs": [
    {
     "name": "stdout",
     "output_type": "stream",
     "text": [
      "1\n",
      "\n"
     ]
    }
   ],
   "source": [
    "print1ton(1)"
   ]
  },
  {
   "cell_type": "code",
   "execution_count": null,
   "id": "0b043597",
   "metadata": {},
   "outputs": [],
   "source": []
  }
 ],
 "metadata": {
  "kernelspec": {
   "display_name": "Python 3",
   "language": "python",
   "name": "python3"
  },
  "language_info": {
   "codemirror_mode": {
    "name": "ipython",
    "version": 3
   },
   "file_extension": ".py",
   "mimetype": "text/x-python",
   "name": "python",
   "nbconvert_exporter": "python",
   "pygments_lexer": "ipython3",
   "version": "3.8.8"
  }
 },
 "nbformat": 4,
 "nbformat_minor": 5
}
