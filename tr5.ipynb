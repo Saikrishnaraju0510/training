{
 "cells": [
  {
   "cell_type": "code",
   "execution_count": 7,
   "id": "90442769",
   "metadata": {},
   "outputs": [
    {
     "name": "stdout",
     "output_type": "stream",
     "text": [
      "krish marks are \n",
      "physics marks-99\n",
      "maths marks-86\n",
      "chemistry marks-64\n"
     ]
    }
   ],
   "source": [
    "#class\n",
    "class marks:\n",
    "    def __init__(self,name,maths=0,physics=0,chemistry=0):\n",
    "    #here init is constructor so everytime a object is created this gets executed and if values are not provided the default values will be takes.\n",
    "        self.name=name\n",
    "        self.maths=maths\n",
    "        self.physics=physics\n",
    "        self.chemistry=chemistry\n",
    "    \n",
    "    def getdata(self):\n",
    "        print(\"{0} marks are \\nphysics marks-{2}\\nmaths marks-{1}\\nchemistry marks-{3}\".format(self.name,self.maths,self.physics,self.chemistry))\n",
    "        \n",
    "student1= marks('krish',86,99,64)\n",
    "student1.getdata()\n",
    "    "
   ]
  },
  {
   "cell_type": "code",
   "execution_count": 9,
   "id": "c1883cff",
   "metadata": {},
   "outputs": [
    {
     "name": "stdout",
     "output_type": "stream",
     "text": [
      "tom marks are \n",
      "physics marks-99\n",
      "maths marks-52\n",
      "chemistry marks-0\n"
     ]
    }
   ],
   "source": [
    "#as we declared default values if we dont specify that value it takes default , one of the main use of constructor.\n",
    "student2=marks('tom',52,99)\n",
    "student2.getdata()"
   ]
  },
  {
   "cell_type": "code",
   "execution_count": 30,
   "id": "ac37b7d5",
   "metadata": {},
   "outputs": [
    {
     "name": "stdout",
     "output_type": "stream",
     "text": [
      "calculated on basis of distance\n",
      "tata airlines cost 5000 for 500 kms \n",
      "calculated on basis of distance\n",
      "(8000, 'indigo')\n"
     ]
    }
   ],
   "source": [
    "class flights:\n",
    "    def __init__(self,name='invalid',fare=1000,distance=0):\n",
    "        self.name=name\n",
    "        self.fare=fare\n",
    "        self.distance=distance\n",
    "        print(\"calculated on basis of distance\")\n",
    "    def getdata(self):\n",
    "        print(\"{} airlines cost {} for {} kms \".format(self.name,self.fare,self.distance))\n",
    "\n",
    "    def __gt__(self,s2):\n",
    "        if(self.fare>s2.fare):\n",
    "            return self.fare,self.name\n",
    "        else:\n",
    "            return s2.fare,s2.name\n",
    "flight1=flights('tata',5000,500)\n",
    "flight1.getdata()\n",
    "flight2=flights('indigo',8000,500)\n",
    "print(flight1>flight2)\n",
    "#assuming same kms as input"
   ]
  },
  {
   "cell_type": "code",
   "execution_count": 49,
   "id": "c11e3f87",
   "metadata": {},
   "outputs": [
    {
     "name": "stdout",
     "output_type": "stream",
     "text": [
      "just hall and kitchen\n",
      "will get 1 bed room with no furnitre\n",
      "rent- 10000\n"
     ]
    }
   ],
   "source": [
    "class house():\n",
    "    def __init__(self,area='hyderabad',rent=5000):\n",
    "        self.area=area\n",
    "        self.rent=rent\n",
    "        print(\"just hall and kitchen\")\n",
    "class bhk1(house):\n",
    "    def __init__(self):\n",
    "        house.__init__(self)\n",
    "        print(\"will get 1 bed room with no furnitre\")\n",
    "    def calrent(self):\n",
    "        print(\"rent-\",self.rent*2)\n",
    "class bhk2(house):\n",
    "    def __init__(self):\n",
    "        house.__init__(self)\n",
    "        print(\"will get 2 bed room with/without furnitre\")\n",
    "    def calrent(self):\n",
    "        print(\"rent={} with furnitre\\n {} without furnitre\".format(self.rent*4,self.rent*3))\n",
    "c1=bhk1()\n",
    "c1.calrent()"
   ]
  },
  {
   "cell_type": "code",
   "execution_count": 50,
   "id": "3d97aece",
   "metadata": {},
   "outputs": [
    {
     "name": "stdout",
     "output_type": "stream",
     "text": [
      "just hall and kitchen\n",
      "will get 2 bed room with/without furnitre\n",
      "rent=20000 with furnitre\n",
      " 15000 without furnitre\n"
     ]
    }
   ],
   "source": [
    "c2=bhk2()\n",
    "c2.calrent()"
   ]
  },
  {
   "cell_type": "code",
   "execution_count": null,
   "id": "6a4f77f4",
   "metadata": {},
   "outputs": [],
   "source": []
  }
 ],
 "metadata": {
  "kernelspec": {
   "display_name": "Python 3",
   "language": "python",
   "name": "python3"
  },
  "language_info": {
   "codemirror_mode": {
    "name": "ipython",
    "version": 3
   },
   "file_extension": ".py",
   "mimetype": "text/x-python",
   "name": "python",
   "nbconvert_exporter": "python",
   "pygments_lexer": "ipython3",
   "version": "3.8.8"
  }
 },
 "nbformat": 4,
 "nbformat_minor": 5
}
