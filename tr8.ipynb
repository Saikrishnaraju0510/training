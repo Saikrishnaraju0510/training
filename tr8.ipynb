{
 "cells": [
  {
   "cell_type": "code",
   "execution_count": 1,
   "id": "b93d5906",
   "metadata": {},
   "outputs": [],
   "source": [
    "#exception handling\n",
    "a=25\n",
    "b=0\n",
    "c=5\n",
    "d='ab'"
   ]
  },
  {
   "cell_type": "code",
   "execution_count": 2,
   "id": "8a534674",
   "metadata": {},
   "outputs": [
    {
     "ename": "ZeroDivisionError",
     "evalue": "division by zero",
     "output_type": "error",
     "traceback": [
      "\u001b[1;31m---------------------------------------------------------------------------\u001b[0m",
      "\u001b[1;31mZeroDivisionError\u001b[0m                         Traceback (most recent call last)",
      "\u001b[1;32m<ipython-input-2-aae42d317509>\u001b[0m in \u001b[0;36m<module>\u001b[1;34m\u001b[0m\n\u001b[1;32m----> 1\u001b[1;33m \u001b[0ma\u001b[0m\u001b[1;33m/\u001b[0m\u001b[0mb\u001b[0m\u001b[1;33m\u001b[0m\u001b[1;33m\u001b[0m\u001b[0m\n\u001b[0m",
      "\u001b[1;31mZeroDivisionError\u001b[0m: division by zero"
     ]
    }
   ],
   "source": [
    "a/b"
   ]
  },
  {
   "cell_type": "code",
   "execution_count": 3,
   "id": "280d0f8d",
   "metadata": {},
   "outputs": [
    {
     "ename": "TypeError",
     "evalue": "unsupported operand type(s) for /: 'str' and 'int'",
     "output_type": "error",
     "traceback": [
      "\u001b[1;31m---------------------------------------------------------------------------\u001b[0m",
      "\u001b[1;31mTypeError\u001b[0m                                 Traceback (most recent call last)",
      "\u001b[1;32m<ipython-input-3-c18c48d82979>\u001b[0m in \u001b[0;36m<module>\u001b[1;34m\u001b[0m\n\u001b[1;32m----> 1\u001b[1;33m \u001b[0md\u001b[0m\u001b[1;33m/\u001b[0m\u001b[0ma\u001b[0m\u001b[1;33m\u001b[0m\u001b[1;33m\u001b[0m\u001b[0m\n\u001b[0m",
      "\u001b[1;31mTypeError\u001b[0m: unsupported operand type(s) for /: 'str' and 'int'"
     ]
    }
   ],
   "source": [
    "d/a"
   ]
  },
  {
   "cell_type": "code",
   "execution_count": 4,
   "id": "e140bd06",
   "metadata": {},
   "outputs": [
    {
     "name": "stdout",
     "output_type": "stream",
     "text": [
      "error occured\n"
     ]
    }
   ],
   "source": [
    "#when we encounter exception in a program we can use exception handling so that the program gets executed fully if\n",
    "#we encounter an error in middle.\n",
    "try:\n",
    "    print(a/b)\n",
    "except:\n",
    "    print(\"error occured\")\n",
    "else:\n",
    "    print(\"no error\")"
   ]
  },
  {
   "cell_type": "code",
   "execution_count": 6,
   "id": "e36380fa",
   "metadata": {},
   "outputs": [
    {
     "name": "stdout",
     "output_type": "stream",
     "text": [
      "error occured\n",
      "unsupported operand type(s) for /: 'str' and 'int'\n"
     ]
    }
   ],
   "source": [
    "try:\n",
    "    print(d/a)\n",
    "except Exception as e:\n",
    "    print(\"error occured\")\n",
    "    print(e)\n",
    "else:\n",
    "    print(\"no error\")"
   ]
  },
  {
   "cell_type": "code",
   "execution_count": 7,
   "id": "3f622d38",
   "metadata": {},
   "outputs": [],
   "source": [
    "def addn(n1,n2):\n",
    "    print(n1+n2)\n",
    "def subt(n1,n2):\n",
    "    print(n1-n2)\n",
    "def divison(n1,n2):\n",
    "    print(n1/n2)\n",
    "def multiply(n1,n2):\n",
    "    print(n1*n2)"
   ]
  },
  {
   "cell_type": "code",
   "execution_count": 9,
   "id": "852b62f0",
   "metadata": {},
   "outputs": [
    {
     "name": "stdout",
     "output_type": "stream",
     "text": [
      "enter number55\n",
      "enter number0\n",
      "55\n",
      "55\n"
     ]
    },
    {
     "ename": "ZeroDivisionError",
     "evalue": "division by zero",
     "output_type": "error",
     "traceback": [
      "\u001b[1;31m---------------------------------------------------------------------------\u001b[0m",
      "\u001b[1;31mZeroDivisionError\u001b[0m                         Traceback (most recent call last)",
      "\u001b[1;32m<ipython-input-9-ccb29115ebec>\u001b[0m in \u001b[0;36m<module>\u001b[1;34m\u001b[0m\n\u001b[0;32m      3\u001b[0m \u001b[0maddn\u001b[0m\u001b[1;33m(\u001b[0m\u001b[0ma\u001b[0m\u001b[1;33m,\u001b[0m\u001b[0mb\u001b[0m\u001b[1;33m)\u001b[0m\u001b[1;33m\u001b[0m\u001b[1;33m\u001b[0m\u001b[0m\n\u001b[0;32m      4\u001b[0m \u001b[0msubt\u001b[0m\u001b[1;33m(\u001b[0m\u001b[0ma\u001b[0m\u001b[1;33m,\u001b[0m\u001b[0mb\u001b[0m\u001b[1;33m)\u001b[0m\u001b[1;33m\u001b[0m\u001b[1;33m\u001b[0m\u001b[0m\n\u001b[1;32m----> 5\u001b[1;33m \u001b[0mdivison\u001b[0m\u001b[1;33m(\u001b[0m\u001b[0ma\u001b[0m\u001b[1;33m,\u001b[0m\u001b[0mb\u001b[0m\u001b[1;33m)\u001b[0m\u001b[1;33m\u001b[0m\u001b[1;33m\u001b[0m\u001b[0m\n\u001b[0m\u001b[0;32m      6\u001b[0m \u001b[0mmultiply\u001b[0m\u001b[1;33m(\u001b[0m\u001b[0ma\u001b[0m\u001b[1;33m,\u001b[0m\u001b[0mb\u001b[0m\u001b[1;33m)\u001b[0m\u001b[1;33m\u001b[0m\u001b[1;33m\u001b[0m\u001b[0m\n",
      "\u001b[1;32m<ipython-input-7-326315ade64c>\u001b[0m in \u001b[0;36mdivison\u001b[1;34m(n1, n2)\u001b[0m\n\u001b[0;32m      4\u001b[0m     \u001b[0mprint\u001b[0m\u001b[1;33m(\u001b[0m\u001b[0mn1\u001b[0m\u001b[1;33m-\u001b[0m\u001b[0mn2\u001b[0m\u001b[1;33m)\u001b[0m\u001b[1;33m\u001b[0m\u001b[1;33m\u001b[0m\u001b[0m\n\u001b[0;32m      5\u001b[0m \u001b[1;32mdef\u001b[0m \u001b[0mdivison\u001b[0m\u001b[1;33m(\u001b[0m\u001b[0mn1\u001b[0m\u001b[1;33m,\u001b[0m\u001b[0mn2\u001b[0m\u001b[1;33m)\u001b[0m\u001b[1;33m:\u001b[0m\u001b[1;33m\u001b[0m\u001b[1;33m\u001b[0m\u001b[0m\n\u001b[1;32m----> 6\u001b[1;33m     \u001b[0mprint\u001b[0m\u001b[1;33m(\u001b[0m\u001b[0mn1\u001b[0m\u001b[1;33m/\u001b[0m\u001b[0mn2\u001b[0m\u001b[1;33m)\u001b[0m\u001b[1;33m\u001b[0m\u001b[1;33m\u001b[0m\u001b[0m\n\u001b[0m\u001b[0;32m      7\u001b[0m \u001b[1;32mdef\u001b[0m \u001b[0mmultiply\u001b[0m\u001b[1;33m(\u001b[0m\u001b[0mn1\u001b[0m\u001b[1;33m,\u001b[0m\u001b[0mn2\u001b[0m\u001b[1;33m)\u001b[0m\u001b[1;33m:\u001b[0m\u001b[1;33m\u001b[0m\u001b[1;33m\u001b[0m\u001b[0m\n\u001b[0;32m      8\u001b[0m     \u001b[0mprint\u001b[0m\u001b[1;33m(\u001b[0m\u001b[0mn1\u001b[0m\u001b[1;33m*\u001b[0m\u001b[0mn2\u001b[0m\u001b[1;33m)\u001b[0m\u001b[1;33m\u001b[0m\u001b[1;33m\u001b[0m\u001b[0m\n",
      "\u001b[1;31mZeroDivisionError\u001b[0m: division by zero"
     ]
    }
   ],
   "source": [
    "a=int(input(\"enter number\"))\n",
    "b=int(input(\"enter number\"))\n",
    "addn(a,b)\n",
    "subt(a,b)\n",
    "divison(a,b)\n",
    "multiply(a,b)"
   ]
  },
  {
   "cell_type": "code",
   "execution_count": 10,
   "id": "7aca1ae7",
   "metadata": {},
   "outputs": [],
   "source": [
    "#above after encountering error the program stopped execution abruptly\n",
    "#exception handling helps in such situation\n",
    "def addn(n1,n2):\n",
    "    print(n1+n2)\n",
    "def subt(n1,n2):\n",
    "    print(n1-n2)\n",
    "def divison(n1,n2):\n",
    "    try:\n",
    "        print(n1/n2)\n",
    "    except Exception as e:\n",
    "        print(e)\n",
    "        print(\"error ncountered and handled\")\n",
    "        print(\"operation not possible\")\n",
    "def multiply(n1,n2):\n",
    "    print(n1*n2)\n"
   ]
  },
  {
   "cell_type": "code",
   "execution_count": 11,
   "id": "ae07f77b",
   "metadata": {},
   "outputs": [
    {
     "name": "stdout",
     "output_type": "stream",
     "text": [
      "enter number55\n",
      "enter number0\n",
      "55\n",
      "55\n",
      "division by zero\n",
      "error ncountered and handled\n",
      "operation not possible\n",
      "0\n"
     ]
    }
   ],
   "source": [
    "a=int(input(\"enter number\"))\n",
    "b=int(input(\"enter number\"))\n",
    "addn(a,b)\n",
    "subt(a,b)\n",
    "divison(a,b)\n",
    "multiply(a,b)"
   ]
  },
  {
   "cell_type": "code",
   "execution_count": 12,
   "id": "4bb0c3c4",
   "metadata": {},
   "outputs": [
    {
     "name": "stdout",
     "output_type": "stream",
     "text": [
      "enter number55\n",
      "enter number5\n",
      "60\n",
      "50\n",
      "11.0\n",
      "275\n"
     ]
    }
   ],
   "source": [
    "a=int(input(\"enter number\"))\n",
    "b=int(input(\"enter number\"))\n",
    "addn(a,b)\n",
    "subt(a,b)\n",
    "divison(a,b)\n",
    "multiply(a,b)"
   ]
  },
  {
   "cell_type": "code",
   "execution_count": 18,
   "id": "69c1828d",
   "metadata": {},
   "outputs": [
    {
     "name": "stdout",
     "output_type": "stream",
     "text": [
      "enter number10000\n",
      "enter number5000\n",
      "enter withdraw amount upto  5000\n"
     ]
    }
   ],
   "source": [
    "balance=int(input(\"enter number\"))\n",
    "minbalance=int(input(\"enter number\"))\n",
    "try:\n",
    "    if(balance<minbalance):\n",
    "        raise ValueError(\"insufficient balance\")\n",
    "except ValueError as v:\n",
    "    print(v)\n",
    "else:\n",
    "    print(\"enter withdraw amount upto \",balance-minbalance)"
   ]
  },
  {
   "cell_type": "code",
   "execution_count": 20,
   "id": "ba3acd3f",
   "metadata": {},
   "outputs": [
    {
     "name": "stdout",
     "output_type": "stream",
     "text": [
      "enter number2000\n",
      "enter number5000\n",
      "insufficient balance\n"
     ]
    }
   ],
   "source": [
    "balance=int(input(\"enter number\"))\n",
    "minbalance=int(input(\"enter number\"))\n",
    "try:\n",
    "    if(balance<minbalance):\n",
    "        raise ValueError(\"insufficient balance\")\n",
    "except ValueError as v:\n",
    "    print(v)\n",
    "else:\n",
    "    print(\"enter withdraw amount upto \",balance-minbalance)"
   ]
  },
  {
   "cell_type": "code",
   "execution_count": 21,
   "id": "f66f994b",
   "metadata": {},
   "outputs": [
    {
     "name": "stdout",
     "output_type": "stream",
     "text": [
      "10.0\n",
      "done running iteration\n",
      "<class 'TypeError'> occured\n",
      "done running iteration\n",
      "<class 'ZeroDivisionError'> occured\n",
      "done running iteration\n",
      "-10.0\n",
      "done running iteration\n"
     ]
    }
   ],
   "source": [
    "import sys\n",
    "li=[1,'a',0,-1]\n",
    "for i in li:\n",
    "    try:\n",
    "        print(10/i)\n",
    "    except:\n",
    "        print(sys.exc_info()[0],\"occured\")\n",
    "    finally:\n",
    "        print(\"done running iteration\")"
   ]
  },
  {
   "cell_type": "code",
   "execution_count": 22,
   "id": "e9290b34",
   "metadata": {},
   "outputs": [
    {
     "name": "stdout",
     "output_type": "stream",
     "text": [
      "division by zero\n",
      "code execution completed\n"
     ]
    }
   ],
   "source": [
    "a=10\n",
    "b=0\n",
    "try:\n",
    "    print(a/b)\n",
    "except Exception as e:\n",
    "    print(e)\n",
    "else:\n",
    "    print(\"no error\")\n",
    "finally:\n",
    "    print(\"code execution completed\")"
   ]
  },
  {
   "cell_type": "code",
   "execution_count": 30,
   "id": "8360b343",
   "metadata": {},
   "outputs": [
    {
     "name": "stdout",
     "output_type": "stream",
     "text": [
      "No module named 'test.py'\n",
      "8\n"
     ]
    }
   ],
   "source": [
    "try:\n",
    "    import test.py\n",
    "except Exception as e:\n",
    "    print(e)\n",
    "finally:\n",
    "    (\"code completed\")\n",
    "print(5+3)"
   ]
  },
  {
   "cell_type": "code",
   "execution_count": 51,
   "id": "1362f8d4",
   "metadata": {},
   "outputs": [],
   "source": [
    "#user defined\n",
    "class Networkerror(RuntimeError):\n",
    "   def __init__(self, arg):\n",
    "      self.args = arg"
   ]
  },
  {
   "cell_type": "code",
   "execution_count": null,
   "id": "7b60fe13",
   "metadata": {},
   "outputs": [],
   "source": []
  },
  {
   "cell_type": "code",
   "execution_count": 52,
   "id": "c9163089",
   "metadata": {},
   "outputs": [
    {
     "name": "stdout",
     "output_type": "stream",
     "text": [
      "('B', 'a', 'd', ' ', 'h', 'o', 's', 't', 'n', 'a', 'm', 'e')\n"
     ]
    }
   ],
   "source": [
    "try:\n",
    "   raise Networkerror(\"Bad hostname\")\n",
    "except Networkerror as e:\n",
    "   print (e.args)"
   ]
  },
  {
   "cell_type": "code",
   "execution_count": null,
   "id": "eb9e7d9c",
   "metadata": {},
   "outputs": [],
   "source": []
  }
 ],
 "metadata": {
  "kernelspec": {
   "display_name": "Python 3",
   "language": "python",
   "name": "python3"
  },
  "language_info": {
   "codemirror_mode": {
    "name": "ipython",
    "version": 3
   },
   "file_extension": ".py",
   "mimetype": "text/x-python",
   "name": "python",
   "nbconvert_exporter": "python",
   "pygments_lexer": "ipython3",
   "version": "3.8.8"
  }
 },
 "nbformat": 4,
 "nbformat_minor": 5
}
