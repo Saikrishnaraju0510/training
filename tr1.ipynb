{
 "cells": [
  {
   "cell_type": "code",
   "execution_count": 1,
   "id": "62c42878",
   "metadata": {},
   "outputs": [
    {
     "name": "stdout",
     "output_type": "stream",
     "text": [
      "<class 'int'>\n"
     ]
    }
   ],
   "source": [
    "a=5\n",
    "print(type(a))"
   ]
  },
  {
   "cell_type": "code",
   "execution_count": 3,
   "id": "0293c302",
   "metadata": {},
   "outputs": [
    {
     "data": {
      "text/plain": [
       "float"
      ]
     },
     "execution_count": 3,
     "metadata": {},
     "output_type": "execute_result"
    }
   ],
   "source": [
    "b=5.33\n",
    "type(b)"
   ]
  },
  {
   "cell_type": "code",
   "execution_count": 5,
   "id": "48bd56c6",
   "metadata": {},
   "outputs": [
    {
     "data": {
      "text/plain": [
       "complex"
      ]
     },
     "execution_count": 5,
     "metadata": {},
     "output_type": "execute_result"
    }
   ],
   "source": [
    "c=1+3j\n",
    "type(c)"
   ]
  },
  {
   "cell_type": "markdown",
   "id": "37e8fb91",
   "metadata": {},
   "source": [
    "we use decimal when we need precision and want exact answer instead of float\n"
   ]
  },
  {
   "cell_type": "code",
   "execution_count": 11,
   "id": "a0014b0f",
   "metadata": {},
   "outputs": [
    {
     "name": "stdout",
     "output_type": "stream",
     "text": [
      "5.3300000000000000710542735760100185871124267578125\n"
     ]
    },
    {
     "data": {
      "text/plain": [
       "decimal.Decimal"
      ]
     },
     "execution_count": 11,
     "metadata": {},
     "output_type": "execute_result"
    }
   ],
   "source": [
    "import decimal\n",
    "d=decimal.Decimal(b)\n",
    "print(d)\n",
    "type(d)"
   ]
  },
  {
   "cell_type": "code",
   "execution_count": 12,
   "id": "6c8ae8bb",
   "metadata": {},
   "outputs": [
    {
     "data": {
      "text/plain": [
       "25"
      ]
     },
     "execution_count": 12,
     "metadata": {},
     "output_type": "execute_result"
    }
   ],
   "source": [
    "f=25\n",
    "g=f\n",
    "g"
   ]
  },
  {
   "cell_type": "code",
   "execution_count": 13,
   "id": "bc014c38",
   "metadata": {},
   "outputs": [
    {
     "data": {
      "text/plain": [
       "list"
      ]
     },
     "execution_count": 13,
     "metadata": {},
     "output_type": "execute_result"
    }
   ],
   "source": [
    "l=['a',1,55,'good',5.66]\n",
    "type(l)"
   ]
  },
  {
   "cell_type": "code",
   "execution_count": 14,
   "id": "db01c9be",
   "metadata": {},
   "outputs": [
    {
     "data": {
      "text/plain": [
       "'a'"
      ]
     },
     "execution_count": 14,
     "metadata": {},
     "output_type": "execute_result"
    }
   ],
   "source": [
    "l[0]"
   ]
  },
  {
   "cell_type": "code",
   "execution_count": 15,
   "id": "ee62bb10",
   "metadata": {},
   "outputs": [
    {
     "data": {
      "text/plain": [
       "str"
      ]
     },
     "execution_count": 15,
     "metadata": {},
     "output_type": "execute_result"
    }
   ],
   "source": [
    "type(l[0])"
   ]
  },
  {
   "cell_type": "code",
   "execution_count": 18,
   "id": "9d9925af",
   "metadata": {},
   "outputs": [
    {
     "data": {
      "text/plain": [
       "float"
      ]
     },
     "execution_count": 18,
     "metadata": {},
     "output_type": "execute_result"
    }
   ],
   "source": [
    "type(l[-1])"
   ]
  },
  {
   "cell_type": "markdown",
   "id": "f72f3338",
   "metadata": {},
   "source": [
    "list and tuple are ordered sequence of items with different or same datat types where as list is mutable and tuple is immutable"
   ]
  },
  {
   "cell_type": "code",
   "execution_count": 19,
   "id": "217813ab",
   "metadata": {},
   "outputs": [],
   "source": [
    "t=(2,'b',25.8)"
   ]
  },
  {
   "cell_type": "code",
   "execution_count": 20,
   "id": "10153f6c",
   "metadata": {},
   "outputs": [
    {
     "data": {
      "text/plain": [
       "tuple"
      ]
     },
     "execution_count": 20,
     "metadata": {},
     "output_type": "execute_result"
    }
   ],
   "source": [
    "type(t)"
   ]
  },
  {
   "cell_type": "code",
   "execution_count": 21,
   "id": "0477de32",
   "metadata": {},
   "outputs": [
    {
     "name": "stdout",
     "output_type": "stream",
     "text": [
      "2\n"
     ]
    },
    {
     "data": {
      "text/plain": [
       "int"
      ]
     },
     "execution_count": 21,
     "metadata": {},
     "output_type": "execute_result"
    }
   ],
   "source": [
    "print(t[0])\n",
    "type(t[0])"
   ]
  },
  {
   "cell_type": "markdown",
   "id": "9ebb884f",
   "metadata": {},
   "source": [
    "set"
   ]
  },
  {
   "cell_type": "code",
   "execution_count": 38,
   "id": "71ce8a61",
   "metadata": {},
   "outputs": [
    {
     "data": {
      "text/plain": [
       "{2, 3, 5, 6, 7}"
      ]
     },
     "execution_count": 38,
     "metadata": {},
     "output_type": "execute_result"
    }
   ],
   "source": [
    "myset={5,3,2,7,6}\n",
    "myset"
   ]
  },
  {
   "cell_type": "code",
   "execution_count": 23,
   "id": "206ba6b1",
   "metadata": {},
   "outputs": [
    {
     "data": {
      "text/plain": [
       "set"
      ]
     },
     "execution_count": 23,
     "metadata": {},
     "output_type": "execute_result"
    }
   ],
   "source": [
    "#to create empty set\n",
    "empset=set()\n",
    "type(empset)"
   ]
  },
  {
   "cell_type": "code",
   "execution_count": 39,
   "id": "e381b228",
   "metadata": {},
   "outputs": [],
   "source": [
    "#in sets duplicates are avoided\n",
    "myset.add(2)"
   ]
  },
  {
   "cell_type": "code",
   "execution_count": 40,
   "id": "c369d06a",
   "metadata": {},
   "outputs": [
    {
     "data": {
      "text/plain": [
       "{2, 3, 5, 6, 7}"
      ]
     },
     "execution_count": 40,
     "metadata": {},
     "output_type": "execute_result"
    }
   ],
   "source": [
    "myset"
   ]
  },
  {
   "cell_type": "code",
   "execution_count": 41,
   "id": "17e72851",
   "metadata": {},
   "outputs": [
    {
     "data": {
      "text/plain": [
       "{1, 2, 3, 4, 5, 6, 7, 9, 'q'}"
      ]
     },
     "execution_count": 41,
     "metadata": {},
     "output_type": "execute_result"
    }
   ],
   "source": [
    "#we can add multiple datattypes to set using update\n",
    "myset.update('q',(1,4,6),[2,9])\n",
    "myset"
   ]
  },
  {
   "cell_type": "code",
   "execution_count": 42,
   "id": "536f4e13",
   "metadata": {},
   "outputs": [
    {
     "name": "stdout",
     "output_type": "stream",
     "text": [
      "{1, 2, 4, 5, 6, 7, 9, 'q'}\n"
     ]
    },
    {
     "data": {
      "text/plain": [
       "{1, 2, 5, 6, 7, 9, 'q'}"
      ]
     },
     "execution_count": 42,
     "metadata": {},
     "output_type": "execute_result"
    }
   ],
   "source": [
    "#discard and remove is used to eliminate members pf a set\n",
    "myset.discard(3)\n",
    "print(myset)\n",
    "myset.remove(4)\n",
    "myset"
   ]
  },
  {
   "cell_type": "code",
   "execution_count": 43,
   "id": "80ab78c1",
   "metadata": {},
   "outputs": [
    {
     "name": "stdout",
     "output_type": "stream",
     "text": [
      "1\n",
      "{2, 5, 6, 7, 9, 'q'}\n"
     ]
    }
   ],
   "source": [
    "print(myset.pop())\n",
    "print(myset)"
   ]
  },
  {
   "cell_type": "code",
   "execution_count": 44,
   "id": "0b698deb",
   "metadata": {},
   "outputs": [],
   "source": [
    "#clear command will remove all items in a set\n"
   ]
  },
  {
   "cell_type": "code",
   "execution_count": 45,
   "id": "26a3cbf9",
   "metadata": {},
   "outputs": [],
   "source": [
    "#creating empty dictionary\n",
    "empdic={}"
   ]
  },
  {
   "cell_type": "code",
   "execution_count": 48,
   "id": "6031bb27",
   "metadata": {},
   "outputs": [
    {
     "name": "stdout",
     "output_type": "stream",
     "text": [
      "{1: [1, 2, 3], 2: 'zebra'}\n",
      "{1: 'apple', 2: 'anaconda'}\n",
      "<class 'dict'>\n"
     ]
    },
    {
     "data": {
      "text/plain": [
       "dict"
      ]
     },
     "execution_count": 48,
     "metadata": {},
     "output_type": "execute_result"
    }
   ],
   "source": [
    "#assigning elements to dictionary\n",
    "di={1:'apple',2:'anaconda'}\n",
    "d1={1:[1,2,3],2:'zebra'}\n",
    "print(d1)\n",
    "print(di)\n",
    "print(type(d1))\n",
    "type(di)\n"
   ]
  },
  {
   "cell_type": "code",
   "execution_count": 51,
   "id": "6e0d0439",
   "metadata": {},
   "outputs": [
    {
     "data": {
      "text/plain": [
       "'apple'"
      ]
     },
     "execution_count": 51,
     "metadata": {},
     "output_type": "execute_result"
    }
   ],
   "source": [
    "di[1]"
   ]
  },
  {
   "cell_type": "code",
   "execution_count": 52,
   "id": "6d40b8a9",
   "metadata": {},
   "outputs": [
    {
     "data": {
      "text/plain": [
       "'apple'"
      ]
     },
     "execution_count": 52,
     "metadata": {},
     "output_type": "execute_result"
    }
   ],
   "source": [
    "#or\n",
    "di.get(1)"
   ]
  },
  {
   "cell_type": "code",
   "execution_count": 53,
   "id": "182c8f14",
   "metadata": {},
   "outputs": [
    {
     "data": {
      "text/plain": [
       "[1, 2, 3]"
      ]
     },
     "execution_count": 53,
     "metadata": {},
     "output_type": "execute_result"
    }
   ],
   "source": [
    "d1.pop(1)"
   ]
  },
  {
   "cell_type": "code",
   "execution_count": 54,
   "id": "2e2843db",
   "metadata": {},
   "outputs": [
    {
     "data": {
      "text/plain": [
       "{2: 'zebra'}"
      ]
     },
     "execution_count": 54,
     "metadata": {},
     "output_type": "execute_result"
    }
   ],
   "source": [
    "d1"
   ]
  },
  {
   "cell_type": "code",
   "execution_count": 55,
   "id": "fc495707",
   "metadata": {},
   "outputs": [
    {
     "data": {
      "text/plain": [
       "(2, 'anaconda')"
      ]
     },
     "execution_count": 55,
     "metadata": {},
     "output_type": "execute_result"
    }
   ],
   "source": [
    "di.popitem()"
   ]
  },
  {
   "cell_type": "code",
   "execution_count": 56,
   "id": "6e8e84c5",
   "metadata": {},
   "outputs": [
    {
     "data": {
      "text/plain": [
       "{1: 'apple'}"
      ]
     },
     "execution_count": 56,
     "metadata": {},
     "output_type": "execute_result"
    }
   ],
   "source": [
    "di"
   ]
  },
  {
   "cell_type": "code",
   "execution_count": 57,
   "id": "7b79fc59",
   "metadata": {},
   "outputs": [
    {
     "ename": "NameError",
     "evalue": "name 'd1' is not defined",
     "output_type": "error",
     "traceback": [
      "\u001b[1;31m---------------------------------------------------------------------------\u001b[0m",
      "\u001b[1;31mNameError\u001b[0m                                 Traceback (most recent call last)",
      "\u001b[1;32m<ipython-input-57-e8a26128d400>\u001b[0m in \u001b[0;36m<module>\u001b[1;34m\u001b[0m\n\u001b[0;32m      2\u001b[0m \u001b[1;31m#whereas delete will delete dictionary as well\u001b[0m\u001b[1;33m\u001b[0m\u001b[1;33m\u001b[0m\u001b[1;33m\u001b[0m\u001b[0m\n\u001b[0;32m      3\u001b[0m \u001b[1;32mdel\u001b[0m \u001b[0md1\u001b[0m\u001b[1;33m\u001b[0m\u001b[1;33m\u001b[0m\u001b[0m\n\u001b[1;32m----> 4\u001b[1;33m \u001b[0md1\u001b[0m\u001b[1;33m\u001b[0m\u001b[1;33m\u001b[0m\u001b[0m\n\u001b[0m",
      "\u001b[1;31mNameError\u001b[0m: name 'd1' is not defined"
     ]
    }
   ],
   "source": [
    "#clear will clear and return empty dictionary\n",
    "#whereas delete will delete dictionary as well\n",
    "del d1\n",
    "d1"
   ]
  },
  {
   "cell_type": "markdown",
   "id": "10a1519c",
   "metadata": {},
   "source": [
    "*string*"
   ]
  },
  {
   "cell_type": "code",
   "execution_count": 58,
   "id": "d206256e",
   "metadata": {},
   "outputs": [],
   "source": [
    "#defining string\n",
    "s1='hello'\n",
    "s2=\"\"\"this supports\n",
    "multi line\n",
    "string\"\"\""
   ]
  },
  {
   "cell_type": "code",
   "execution_count": 59,
   "id": "fa1a6c1b",
   "metadata": {},
   "outputs": [
    {
     "data": {
      "text/plain": [
       "5"
      ]
     },
     "execution_count": 59,
     "metadata": {},
     "output_type": "execute_result"
    }
   ],
   "source": [
    "len(s1)"
   ]
  },
  {
   "cell_type": "code",
   "execution_count": 60,
   "id": "4250751a",
   "metadata": {},
   "outputs": [
    {
     "data": {
      "text/plain": [
       "31"
      ]
     },
     "execution_count": 60,
     "metadata": {},
     "output_type": "execute_result"
    }
   ],
   "source": [
    "len(s2)"
   ]
  },
  {
   "cell_type": "code",
   "execution_count": 61,
   "id": "90bba9e4",
   "metadata": {},
   "outputs": [
    {
     "data": {
      "text/plain": [
       "'h'"
      ]
     },
     "execution_count": 61,
     "metadata": {},
     "output_type": "execute_result"
    }
   ],
   "source": [
    "s1[0]"
   ]
  },
  {
   "cell_type": "code",
   "execution_count": 62,
   "id": "45a0ea33",
   "metadata": {},
   "outputs": [
    {
     "data": {
      "text/plain": [
       "'o'"
      ]
     },
     "execution_count": 62,
     "metadata": {},
     "output_type": "execute_result"
    }
   ],
   "source": [
    "s1[-1]"
   ]
  },
  {
   "cell_type": "code",
   "execution_count": 64,
   "id": "1e2a8f76",
   "metadata": {},
   "outputs": [
    {
     "data": {
      "text/plain": [
       "' '"
      ]
     },
     "execution_count": 64,
     "metadata": {},
     "output_type": "execute_result"
    }
   ],
   "source": [
    "s2[4]"
   ]
  },
  {
   "cell_type": "code",
   "execution_count": 65,
   "id": "be51a227",
   "metadata": {},
   "outputs": [
    {
     "data": {
      "text/plain": [
       "' suppor'"
      ]
     },
     "execution_count": 65,
     "metadata": {},
     "output_type": "execute_result"
    }
   ],
   "source": [
    "#access first 7 letters from 4th position\n",
    "s2[4:11]"
   ]
  },
  {
   "cell_type": "code",
   "execution_count": 67,
   "id": "d73c1cc9",
   "metadata": {},
   "outputs": [
    {
     "data": {
      "text/plain": [
       "'s supports\\nmulti line\\nstr'"
      ]
     },
     "execution_count": 67,
     "metadata": {},
     "output_type": "execute_result"
    }
   ],
   "source": [
    "#access letters leaving first 3 and last three\n",
    "s2[3:-3]"
   ]
  },
  {
   "cell_type": "code",
   "execution_count": 68,
   "id": "6d1cdc81",
   "metadata": {},
   "outputs": [
    {
     "data": {
      "text/plain": [
       "'hellothis supports\\nmulti line\\nstring'"
      ]
     },
     "execution_count": 68,
     "metadata": {},
     "output_type": "execute_result"
    }
   ],
   "source": [
    "#concentate strings\n",
    "s3=s1+s2\n",
    "s3"
   ]
  },
  {
   "cell_type": "code",
   "execution_count": 69,
   "id": "4cc491ff",
   "metadata": {},
   "outputs": [
    {
     "data": {
      "text/plain": [
       "'hellothis supports\\nmulti line\\nstringhellothis supports\\nmulti line\\nstringhellothis supports\\nmulti line\\nstring'"
      ]
     },
     "execution_count": 69,
     "metadata": {},
     "output_type": "execute_result"
    }
   ],
   "source": [
    "s3*3"
   ]
  },
  {
   "cell_type": "code",
   "execution_count": 74,
   "id": "a307bc78",
   "metadata": {},
   "outputs": [
    {
     "data": {
      "text/plain": [
       "True"
      ]
     },
     "execution_count": 74,
     "metadata": {},
     "output_type": "execute_result"
    }
   ],
   "source": [
    "'l' in s3"
   ]
  },
  {
   "cell_type": "code",
   "execution_count": 75,
   "id": "ae39d14d",
   "metadata": {},
   "outputs": [
    {
     "data": {
      "text/plain": [
       "False"
      ]
     },
     "execution_count": 75,
     "metadata": {},
     "output_type": "execute_result"
    }
   ],
   "source": [
    "'z' in s3"
   ]
  },
  {
   "cell_type": "code",
   "execution_count": 76,
   "id": "9dcbd33b",
   "metadata": {},
   "outputs": [
    {
     "data": {
      "text/plain": [
       "True"
      ]
     },
     "execution_count": 76,
     "metadata": {},
     "output_type": "execute_result"
    }
   ],
   "source": [
    "'z' not in s3"
   ]
  },
  {
   "cell_type": "code",
   "execution_count": 79,
   "id": "5d2d5c6b",
   "metadata": {},
   "outputs": [
    {
     "name": "stdout",
     "output_type": "stream",
     "text": [
      "[(0, 'h'), (1, 'e'), (2, 'l'), (3, 'l'), (4, 'o')]\n"
     ]
    }
   ],
   "source": [
    "print(list(enumerate(s1)))"
   ]
  },
  {
   "cell_type": "code",
   "execution_count": 92,
   "id": "b171a84e",
   "metadata": {},
   "outputs": [
    {
     "name": "stdout",
     "output_type": "stream",
     "text": [
      "this belongs to \"government\"\n"
     ]
    }
   ],
   "source": [
    "s4='this belongs to \"government\"'\n",
    "print(s4)"
   ]
  },
  {
   "cell_type": "code",
   "execution_count": 93,
   "id": "58e4b58c",
   "metadata": {},
   "outputs": [],
   "source": [
    "s5='this belongs to \\n \"government\"'"
   ]
  },
  {
   "cell_type": "code",
   "execution_count": 94,
   "id": "851f6fe1",
   "metadata": {},
   "outputs": [
    {
     "name": "stdout",
     "output_type": "stream",
     "text": [
      "this belongs to \n",
      " \"government\"\n"
     ]
    }
   ],
   "source": [
    "print(s5)"
   ]
  },
  {
   "cell_type": "code",
   "execution_count": 95,
   "id": "944562f9",
   "metadata": {},
   "outputs": [],
   "source": [
    "s6='this belongs to \\t \"government\"'"
   ]
  },
  {
   "cell_type": "code",
   "execution_count": 97,
   "id": "5d31a12d",
   "metadata": {},
   "outputs": [
    {
     "name": "stdout",
     "output_type": "stream",
     "text": [
      "this belongs to \t \"government\"\n"
     ]
    }
   ],
   "source": [
    "print(s6)"
   ]
  },
  {
   "cell_type": "code",
   "execution_count": 98,
   "id": "0d6ad48a",
   "metadata": {},
   "outputs": [
    {
     "name": "stdout",
     "output_type": "stream",
     "text": [
      "this belongs to \n",
      " \t \"government\"\n"
     ]
    }
   ],
   "source": [
    "s7='this belongs to \\n \\t \"government\"'\n",
    "print(s7)"
   ]
  },
  {
   "cell_type": "code",
   "execution_count": 99,
   "id": "b580add6",
   "metadata": {},
   "outputs": [
    {
     "name": "stdout",
     "output_type": "stream",
     "text": [
      "this belongs to \\n \\t \"government\"\n"
     ]
    }
   ],
   "source": [
    "s8=r'this belongs to \\n \\t \"government\"'\n",
    "print(s8)"
   ]
  },
  {
   "cell_type": "code",
   "execution_count": 101,
   "id": "590439e0",
   "metadata": {},
   "outputs": [
    {
     "name": "stdout",
     "output_type": "stream",
     "text": [
      "john told to lilly about bush in the class\n"
     ]
    }
   ],
   "source": [
    "s9=\"{} told to {} about {} in the class\".format('john','lilly','bush')\n",
    "print(s9)"
   ]
  },
  {
   "cell_type": "code",
   "execution_count": 106,
   "id": "b9d656b7",
   "metadata": {},
   "outputs": [
    {
     "name": "stdout",
     "output_type": "stream",
     "text": [
      "ram owes me 1000 in which \n",
      " i have to give krish 150.75\n"
     ]
    }
   ],
   "source": [
    "t1=150.75\n",
    "s10='{} owes me {} in which \\n i have to give {} {}'.format('ram',1000,'krish',t1)\n",
    "print(s10)"
   ]
  },
  {
   "cell_type": "code",
   "execution_count": 108,
   "id": "8e92538a",
   "metadata": {},
   "outputs": [
    {
     "name": "stdout",
     "output_type": "stream",
     "text": [
      "krish is a good boy\n"
     ]
    }
   ],
   "source": [
    "s11='{1} is a good {0}'.format('boy','krish')\n",
    "print(s11)"
   ]
  },
  {
   "cell_type": "code",
   "execution_count": 112,
   "id": "1a3694ea",
   "metadata": {},
   "outputs": [
    {
     "data": {
      "text/plain": [
       "'This is a python program'"
      ]
     },
     "execution_count": 112,
     "metadata": {},
     "output_type": "execute_result"
    }
   ],
   "source": [
    "s12='this is a Python Program'\n",
    "s12.capitalize()"
   ]
  },
  {
   "cell_type": "code",
   "execution_count": 113,
   "id": "f86ecd2b",
   "metadata": {},
   "outputs": [
    {
     "data": {
      "text/plain": [
       "'THIS IS A PYTHON PROGRAM'"
      ]
     },
     "execution_count": 113,
     "metadata": {},
     "output_type": "execute_result"
    }
   ],
   "source": [
    "s12.upper()"
   ]
  },
  {
   "cell_type": "code",
   "execution_count": 114,
   "id": "ecfc39d4",
   "metadata": {},
   "outputs": [
    {
     "data": {
      "text/plain": [
       "'this is a python program'"
      ]
     },
     "execution_count": 114,
     "metadata": {},
     "output_type": "execute_result"
    }
   ],
   "source": [
    "s12.lower()"
   ]
  },
  {
   "cell_type": "code",
   "execution_count": 115,
   "id": "594e4d6e",
   "metadata": {},
   "outputs": [
    {
     "data": {
      "text/plain": [
       "['this', 'is', 'a', 'Python', 'Program']"
      ]
     },
     "execution_count": 115,
     "metadata": {},
     "output_type": "execute_result"
    }
   ],
   "source": [
    "s12.split()"
   ]
  },
  {
   "cell_type": "code",
   "execution_count": 118,
   "id": "1f1f437c",
   "metadata": {},
   "outputs": [
    {
     "data": {
      "text/plain": [
       "10"
      ]
     },
     "execution_count": 118,
     "metadata": {},
     "output_type": "execute_result"
    }
   ],
   "source": [
    "s12.find('P')"
   ]
  },
  {
   "cell_type": "code",
   "execution_count": 119,
   "id": "343c3848",
   "metadata": {},
   "outputs": [
    {
     "data": {
      "text/plain": [
       "-1"
      ]
     },
     "execution_count": 119,
     "metadata": {},
     "output_type": "execute_result"
    }
   ],
   "source": [
    "s12.find('p')"
   ]
  },
  {
   "cell_type": "code",
   "execution_count": 120,
   "id": "217a1aee",
   "metadata": {},
   "outputs": [
    {
     "data": {
      "text/plain": [
       "2"
      ]
     },
     "execution_count": 120,
     "metadata": {},
     "output_type": "execute_result"
    }
   ],
   "source": [
    "s12.count('P')"
   ]
  },
  {
   "cell_type": "code",
   "execution_count": 122,
   "id": "069143f0",
   "metadata": {},
   "outputs": [
    {
     "data": {
      "text/plain": [
       "'it is a Python Program'"
      ]
     },
     "execution_count": 122,
     "metadata": {},
     "output_type": "execute_result"
    }
   ],
   "source": [
    "s12.replace('this','it')"
   ]
  },
  {
   "cell_type": "code",
   "execution_count": null,
   "id": "4528738d",
   "metadata": {},
   "outputs": [],
   "source": []
  }
 ],
 "metadata": {
  "kernelspec": {
   "display_name": "Python 3",
   "language": "python",
   "name": "python3"
  },
  "language_info": {
   "codemirror_mode": {
    "name": "ipython",
    "version": 3
   },
   "file_extension": ".py",
   "mimetype": "text/x-python",
   "name": "python",
   "nbconvert_exporter": "python",
   "pygments_lexer": "ipython3",
   "version": "3.8.8"
  }
 },
 "nbformat": 4,
 "nbformat_minor": 5
}
