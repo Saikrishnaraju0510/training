{
 "cells": [
  {
   "cell_type": "code",
   "execution_count": null,
   "id": "13abe6ae",
   "metadata": {},
   "outputs": [],
   "source": []
  },
  {
   "cell_type": "code",
   "execution_count": 5,
   "id": "28800a85",
   "metadata": {},
   "outputs": [],
   "source": [
    "with open('sample.xml', 'r') as f:\n",
    "    data = f.read()"
   ]
  },
  {
   "cell_type": "code",
   "execution_count": 6,
   "id": "bfa2174f",
   "metadata": {},
   "outputs": [
    {
     "data": {
      "text/plain": [
       "'<?xml version=\"1.0\"?>\\n<data>\\n    <country name=\"Liechtenstein\">\\n        <rank>1</rank>\\n        <year>2008</year>\\n        <gdppc>141100</gdppc>\\n        <neighbor name=\"Austria\" direction=\"E\"/>\\n        <neighbor name=\"Switzerland\" direction=\"W\"/>\\n    </country>\\n    <country name=\"Singapore\">\\n        <rank>4</rank>\\n        <year>2011</year>\\n        <gdppc>59900</gdppc>\\n        <neighbor name=\"Malaysia\" direction=\"N\"/>\\n    </country>\\n    <country name=\"Panama\">\\n        <rank>68</rank>\\n        <year>2011</year>\\n        <gdppc>13600</gdppc>\\n        <neighbor name=\"Costa Rica\" direction=\"W\"/>\\n        <neighbor name=\"Colombia\" direction=\"E\"/>\\n    </country>\\n</data>'"
      ]
     },
     "execution_count": 6,
     "metadata": {},
     "output_type": "execute_result"
    }
   ],
   "source": [
    "data"
   ]
  },
  {
   "cell_type": "code",
   "execution_count": 13,
   "id": "652a6fbd",
   "metadata": {},
   "outputs": [],
   "source": [
    "import xml.etree.ElementTree as ET\n",
    "mytree=ET.parse('sample.xml')"
   ]
  },
  {
   "cell_type": "code",
   "execution_count": 14,
   "id": "219f092b",
   "metadata": {},
   "outputs": [],
   "source": [
    "mr=mytree.getroot()"
   ]
  },
  {
   "cell_type": "code",
   "execution_count": 15,
   "id": "00085200",
   "metadata": {},
   "outputs": [
    {
     "data": {
      "text/plain": [
       "<Element 'data' at 0x7f3914f35818>"
      ]
     },
     "execution_count": 15,
     "metadata": {},
     "output_type": "execute_result"
    }
   ],
   "source": [
    "mr"
   ]
  },
  {
   "cell_type": "code",
   "execution_count": 16,
   "id": "b7a4fee0",
   "metadata": {},
   "outputs": [
    {
     "data": {
      "text/plain": [
       "'<?xml version=\"1.0\" encoding=\"UTF-8\" standalone=\"no\"?>\\n<!DOCTYPE svg PUBLIC \"-//W3C//DTD SVG 1.1//EN\"\\n  \"http://www.w3.org/Graphics/SVG/1.1/DTD/svg11.dtd\" [\\n    <!ENTITY custom_entity \"Hello\">\\n]>\\n<svg xmlns=\"http://www.w3.org/2000/svg\"\\n  xmlns:inkscape=\"http://www.inkscape.org/namespaces/inkscape\"\\n  viewBox=\"-105 -100 210 270\" width=\"210\" height=\"270\">\\n  <inkscape:custom x=\"42\" inkscape:z=\"555\">Some value</inkscape:custom>\\n  <defs>\\n    <linearGradient id=\"skin\" x1=\"0\" x2=\"0\" y1=\"0\" y2=\"1\">\\n      <stop offset=\"0%\" stop-color=\"yellow\" stop-opacity=\"1.0\"/>\\n      <stop offset=\"75%\" stop-color=\"gold\" stop-opacity=\"1.0\"/>\\n      <stop offset=\"100%\" stop-color=\"orange\" stop-opacity=\"1\"/>\\n    </linearGradient>\\n  </defs>\\n  <g id=\"smiley\" inkscape:groupmode=\"layer\" inkscape:label=\"Smiley\">\\n    <!-- Head -->\\n    <circle cx=\"0\" cy=\"0\" r=\"50\"\\n      fill=\"url(#skin)\" stroke=\"orange\" stroke-width=\"2\"/>\\n    <!-- Eyes -->\\n    <ellipse cx=\"-20\" cy=\"-10\" rx=\"6\" ry=\"8\" fill=\"black\" stroke=\"none\"/>\\n    <ellipse cx=\"20\" cy=\"-10\" rx=\"6\" ry=\"8\" fill=\"black\" stroke=\"none\"/>\\n    <!-- Mouth -->\\n    <path d=\"M-20 20 A25 25 0 0 0 20 20\"\\n      fill=\"white\" stroke=\"black\" stroke-width=\"3\"/>\\n  </g>\\n  <text x=\"-40\" y=\"75\">&custom_entity; &lt;svg&gt;!</text>\\n  <script>\\n    <![CDATA[\\n      console.log(\"CDATA disables XML parsing: <svg>\")\\n      const smiley = document.getElementById(\"smiley\")\\n      const eyes = document.querySelectorAll(\"ellipse\")\\n      const setRadius = r => e => eyes.forEach(x => x.setAttribute(\"ry\", r))\\n      smiley.addEventListener(\"mouseenter\", setRadius(2))\\n      smiley.addEventListener(\"mouseleave\", setRadius(8))\\n    ]]>\\n  </script>\\n</svg>'"
      ]
     },
     "execution_count": 16,
     "metadata": {},
     "output_type": "execute_result"
    }
   ],
   "source": [
    "with open('sample2.xml', 'r') as f:\n",
    "    data1 = f.read()\n",
    "    \n",
    "data1"
   ]
  },
  {
   "cell_type": "code",
   "execution_count": 17,
   "id": "af850c18",
   "metadata": {},
   "outputs": [],
   "source": [
    "mt1=ET.parse('sample2.xml')"
   ]
  },
  {
   "cell_type": "code",
   "execution_count": 18,
   "id": "69a2d50a",
   "metadata": {},
   "outputs": [
    {
     "data": {
      "text/plain": [
       "<Element '{http://www.w3.org/2000/svg}svg' at 0x7f3914f3c818>"
      ]
     },
     "execution_count": 18,
     "metadata": {},
     "output_type": "execute_result"
    }
   ],
   "source": [
    "mr2=mt1.getroot()\n",
    "mr2"
   ]
  },
  {
   "cell_type": "code",
   "execution_count": 19,
   "id": "0bbc1d92",
   "metadata": {},
   "outputs": [
    {
     "data": {
      "text/plain": [
       "'{http://www.w3.org/2000/svg}svg'"
      ]
     },
     "execution_count": 19,
     "metadata": {},
     "output_type": "execute_result"
    }
   ],
   "source": [
    "mr2.tag"
   ]
  },
  {
   "cell_type": "code",
   "execution_count": 20,
   "id": "a8de556e",
   "metadata": {},
   "outputs": [
    {
     "data": {
      "text/plain": [
       "'{http://www.inkscape.org/namespaces/inkscape}custom'"
      ]
     },
     "execution_count": 20,
     "metadata": {},
     "output_type": "execute_result"
    }
   ],
   "source": [
    "mr2[0].tag"
   ]
  },
  {
   "cell_type": "code",
   "execution_count": 21,
   "id": "550786c2",
   "metadata": {},
   "outputs": [
    {
     "data": {
      "text/plain": [
       "'data'"
      ]
     },
     "execution_count": 21,
     "metadata": {},
     "output_type": "execute_result"
    }
   ],
   "source": [
    "mr.tag"
   ]
  },
  {
   "cell_type": "code",
   "execution_count": 22,
   "id": "0259b21d",
   "metadata": {},
   "outputs": [
    {
     "data": {
      "text/plain": [
       "'country'"
      ]
     },
     "execution_count": 22,
     "metadata": {},
     "output_type": "execute_result"
    }
   ],
   "source": [
    "mr[0].tag"
   ]
  },
  {
   "cell_type": "code",
   "execution_count": 23,
   "id": "32aaffeb",
   "metadata": {},
   "outputs": [
    {
     "data": {
      "text/plain": [
       "{'name': 'Liechtenstein'}"
      ]
     },
     "execution_count": 23,
     "metadata": {},
     "output_type": "execute_result"
    }
   ],
   "source": [
    "mr[0].attrib"
   ]
  },
  {
   "cell_type": "code",
   "execution_count": 24,
   "id": "0a119dd0",
   "metadata": {},
   "outputs": [
    {
     "name": "stdout",
     "output_type": "stream",
     "text": [
      "rank {}\n",
      "year {}\n",
      "gdppc {}\n",
      "neighbor {'name': 'Austria', 'direction': 'E'}\n",
      "neighbor {'name': 'Switzerland', 'direction': 'W'}\n"
     ]
    }
   ],
   "source": [
    "for x in mr[0]:\n",
    "    print(x.tag,x.attrib)"
   ]
  },
  {
   "cell_type": "code",
   "execution_count": 25,
   "id": "9e4084be",
   "metadata": {},
   "outputs": [],
   "source": [
    "for x in mr2[0]:\n",
    "    print(x.tag,x.attrib)"
   ]
  },
  {
   "cell_type": "code",
   "execution_count": 26,
   "id": "8fb229ba",
   "metadata": {},
   "outputs": [
    {
     "name": "stdout",
     "output_type": "stream",
     "text": [
      "1\n",
      "2008\n",
      "141100\n",
      "None\n",
      "None\n"
     ]
    }
   ],
   "source": [
    "for x in mr[0]:\n",
    "    print(x.text)"
   ]
  },
  {
   "cell_type": "code",
   "execution_count": 31,
   "id": "da02b255",
   "metadata": {},
   "outputs": [],
   "source": [
    "with open('sample3.xml', 'r') as f:\n",
    "    data = f.read()"
   ]
  },
  {
   "cell_type": "code",
   "execution_count": 32,
   "id": "c87de96e",
   "metadata": {},
   "outputs": [],
   "source": [
    "mt3=ET.parse('sample3.xml')"
   ]
  },
  {
   "cell_type": "code",
   "execution_count": 33,
   "id": "937e6322",
   "metadata": {},
   "outputs": [],
   "source": [
    "mr3=mt3.getroot()"
   ]
  },
  {
   "cell_type": "code",
   "execution_count": 34,
   "id": "8d85f617",
   "metadata": {},
   "outputs": [
    {
     "data": {
      "text/plain": [
       "<Element 'metadata' at 0x7f3914249a98>"
      ]
     },
     "execution_count": 34,
     "metadata": {},
     "output_type": "execute_result"
    }
   ],
   "source": [
    "mr3"
   ]
  },
  {
   "cell_type": "code",
   "execution_count": 35,
   "id": "dcb07314",
   "metadata": {},
   "outputs": [
    {
     "name": "stdout",
     "output_type": "stream",
     "text": [
      "Idly $2.5\n",
      "Paper Dosa $2.7\n",
      "Upma $3.65\n",
      "Bisi Bele Bath $4.50\n",
      "Kesari Bath $1.95\n"
     ]
    }
   ],
   "source": [
    "for x in mr3.findall('food'):\n",
    "    i=x.find('item').text\n",
    "    j=x.find('price').text\n",
    "    print(i,j)"
   ]
  },
  {
   "cell_type": "code",
   "execution_count": 37,
   "id": "46e45924",
   "metadata": {},
   "outputs": [],
   "source": [
    "for x in mr3.iter('description'):\n",
    "    a=str(x.text)+'Description is added'\n",
    "    x.text=str(a)\n",
    "    x.set('it is updated','yes')\n",
    "mt3.write('sample4.xml')"
   ]
  },
  {
   "cell_type": "code",
   "execution_count": 38,
   "id": "118b7916",
   "metadata": {},
   "outputs": [
    {
     "data": {
      "text/plain": [
       "'<metadata>\\n<food>\\n    <item name=\"breakfast\">Idly</item>\\n    <price>$2.5</price>\\n    <description it is updated=\"yes\">\\n   Two idly\\'s with chutney\\n   Description is addedDescription is added</description>\\n    <calories>553</calories>\\n</food>\\n<food>\\n    <item name=\"breakfast\">Paper Dosa</item>\\n    <price>$2.7</price>\\n    <description it is updated=\"yes\">\\n    Plain paper dosa with chutney\\n    Description is added</description>\\n    <calories>700</calories>\\n</food>\\n<food>\\n    <item name=\"breakfast\">Upma</item>\\n    <price>$3.65</price>\\n    <description it is updated=\"yes\">\\n    Rava upma with bajji\\n    Description is added</description>\\n    <calories>600</calories>\\n</food>\\n<food>\\n    <item name=\"breakfast\">Bisi Bele Bath</item>\\n    <price>$4.50</price>\\n    <description it is updated=\"yes\">\\n   Bisi Bele Bath with sev\\n    Description is added</description>\\n    <calories>400</calories>\\n</food>\\n<food>\\n    <item name=\"breakfast\">Kesari Bath</item>\\n    <price>$1.95</price>\\n    <description it is updated=\"yes\">\\n    Sweet rava with saffron\\n    Description is added</description>\\n    <calories>950</calories>\\n</food>\\n</metadata>'"
      ]
     },
     "execution_count": 38,
     "metadata": {},
     "output_type": "execute_result"
    }
   ],
   "source": [
    "with open('sample4.xml', 'r') as f:\n",
    "    data4 = f.read()\n",
    "data4"
   ]
  },
  {
   "cell_type": "code",
   "execution_count": 39,
   "id": "87d7d56c",
   "metadata": {},
   "outputs": [
    {
     "data": {
      "text/plain": [
       "'food'"
      ]
     },
     "execution_count": 39,
     "metadata": {},
     "output_type": "execute_result"
    }
   ],
   "source": [
    "mr3[0].tag"
   ]
  },
  {
   "cell_type": "code",
   "execution_count": 40,
   "id": "d7788bb7",
   "metadata": {},
   "outputs": [],
   "source": [
    "mr3[0].clear()"
   ]
  },
  {
   "cell_type": "code",
   "execution_count": 43,
   "id": "251e9cb5",
   "metadata": {},
   "outputs": [
    {
     "data": {
      "text/plain": [
       "{}"
      ]
     },
     "execution_count": 43,
     "metadata": {},
     "output_type": "execute_result"
    }
   ],
   "source": [
    "mr3[0].attrib"
   ]
  },
  {
   "cell_type": "code",
   "execution_count": 44,
   "id": "e52751d2",
   "metadata": {},
   "outputs": [],
   "source": [
    "ET.SubElement(mr3[0],'speciality')\n",
    "for x in mr3.iter('speciality'):\n",
    "    b='south indian special'\n",
    "    x.text=str(b)\n",
    "mytree.write('new2.xml')"
   ]
  },
  {
   "cell_type": "code",
   "execution_count": 45,
   "id": "d4e33215",
   "metadata": {},
   "outputs": [
    {
     "data": {
      "text/plain": [
       "'<data>\\n    <country name=\"Liechtenstein\">\\n        <rank>1</rank>\\n        <year>2008</year>\\n        <gdppc>141100</gdppc>\\n        <neighbor direction=\"E\" name=\"Austria\" />\\n        <neighbor direction=\"W\" name=\"Switzerland\" />\\n    </country>\\n    <country name=\"Singapore\">\\n        <rank>4</rank>\\n        <year>2011</year>\\n        <gdppc>59900</gdppc>\\n        <neighbor direction=\"N\" name=\"Malaysia\" />\\n    </country>\\n    <country name=\"Panama\">\\n        <rank>68</rank>\\n        <year>2011</year>\\n        <gdppc>13600</gdppc>\\n        <neighbor direction=\"W\" name=\"Costa Rica\" />\\n        <neighbor direction=\"E\" name=\"Colombia\" />\\n    </country>\\n</data>'"
      ]
     },
     "execution_count": 45,
     "metadata": {},
     "output_type": "execute_result"
    }
   ],
   "source": [
    "with open('new2.xml', 'r') as f:\n",
    "    data5 = f.read()\n",
    "data5"
   ]
  },
  {
   "cell_type": "code",
   "execution_count": null,
   "id": "c06fd9ae",
   "metadata": {},
   "outputs": [],
   "source": []
  }
 ],
 "metadata": {
  "kernelspec": {
   "display_name": "Python 3",
   "language": "python",
   "name": "python3"
  },
  "language_info": {
   "codemirror_mode": {
    "name": "ipython",
    "version": 3
   },
   "file_extension": ".py",
   "mimetype": "text/x-python",
   "name": "python",
   "nbconvert_exporter": "python",
   "pygments_lexer": "ipython3",
   "version": "3.6.13"
  }
 },
 "nbformat": 4,
 "nbformat_minor": 5
}
