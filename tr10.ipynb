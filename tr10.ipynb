{
 "cells": [
  {
   "cell_type": "code",
   "execution_count": 1,
   "id": "47859685",
   "metadata": {},
   "outputs": [],
   "source": [
    "import pandas as pd"
   ]
  },
  {
   "cell_type": "code",
   "execution_count": 2,
   "id": "08ba3d07",
   "metadata": {},
   "outputs": [],
   "source": [
    "import json"
   ]
  },
  {
   "cell_type": "code",
   "execution_count": 3,
   "id": "2f5a70ca",
   "metadata": {},
   "outputs": [],
   "source": [
    "x={'name':'tom','age':25,'location':'india'}\n",
    "y=json.dumps(x)"
   ]
  },
  {
   "cell_type": "code",
   "execution_count": 4,
   "id": "46237467",
   "metadata": {},
   "outputs": [
    {
     "data": {
      "text/plain": [
       "'{\"name\": \"tom\", \"age\": 25, \"location\": \"india\"}'"
      ]
     },
     "execution_count": 4,
     "metadata": {},
     "output_type": "execute_result"
    }
   ],
   "source": [
    "y"
   ]
  },
  {
   "cell_type": "code",
   "execution_count": 5,
   "id": "a44a5147",
   "metadata": {},
   "outputs": [],
   "source": [
    "x1=\"this is a beautiful place for spending time alone\"\n",
    "y1=json.dumps(x1)"
   ]
  },
  {
   "cell_type": "code",
   "execution_count": 6,
   "id": "5545abb4",
   "metadata": {},
   "outputs": [
    {
     "data": {
      "text/plain": [
       "'\"this is a beautiful place for spending time alone\"'"
      ]
     },
     "execution_count": 6,
     "metadata": {},
     "output_type": "execute_result"
    }
   ],
   "source": [
    "y1"
   ]
  },
  {
   "cell_type": "code",
   "execution_count": 7,
   "id": "effac0ac",
   "metadata": {},
   "outputs": [],
   "source": [
    "y2=json.loads(y1)"
   ]
  },
  {
   "cell_type": "code",
   "execution_count": 8,
   "id": "ea9559bb",
   "metadata": {},
   "outputs": [
    {
     "data": {
      "text/plain": [
       "'h'"
      ]
     },
     "execution_count": 8,
     "metadata": {},
     "output_type": "execute_result"
    }
   ],
   "source": [
    "y2[1]"
   ]
  },
  {
   "cell_type": "code",
   "execution_count": 9,
   "id": "5503932b",
   "metadata": {},
   "outputs": [
    {
     "data": {
      "text/plain": [
       "'t'"
      ]
     },
     "execution_count": 9,
     "metadata": {},
     "output_type": "execute_result"
    }
   ],
   "source": [
    "y1[1]"
   ]
  },
  {
   "cell_type": "code",
   "execution_count": 10,
   "id": "ecbcd73d",
   "metadata": {},
   "outputs": [],
   "source": [
    "y3=json.loads(y)"
   ]
  },
  {
   "cell_type": "code",
   "execution_count": 11,
   "id": "436ea03b",
   "metadata": {},
   "outputs": [
    {
     "data": {
      "text/plain": [
       "25"
      ]
     },
     "execution_count": 11,
     "metadata": {},
     "output_type": "execute_result"
    }
   ],
   "source": [
    "y3[\"age\"]"
   ]
  },
  {
   "cell_type": "code",
   "execution_count": 12,
   "id": "e36380b8",
   "metadata": {},
   "outputs": [
    {
     "data": {
      "text/plain": [
       "'tom'"
      ]
     },
     "execution_count": 12,
     "metadata": {},
     "output_type": "execute_result"
    }
   ],
   "source": [
    "y3[\"name\"]"
   ]
  },
  {
   "cell_type": "code",
   "execution_count": 14,
   "id": "643bfcce",
   "metadata": {},
   "outputs": [],
   "source": [
    "a1=open('example_2.json')"
   ]
  },
  {
   "cell_type": "code",
   "execution_count": 15,
   "id": "91a01027",
   "metadata": {},
   "outputs": [],
   "source": [
    "data=json.load(a1)"
   ]
  },
  {
   "cell_type": "code",
   "execution_count": 16,
   "id": "bd5a74e2",
   "metadata": {},
   "outputs": [
    {
     "data": {
      "text/plain": [
       "{'quiz': {'sport': {'q1': {'question': 'Which one is correct team name in NBA?',\n",
       "    'options': ['New York Bulls',\n",
       "     'Los Angeles Kings',\n",
       "     'Golden State Warriros',\n",
       "     'Huston Rocket'],\n",
       "    'answer': 'Huston Rocket'}},\n",
       "  'maths': {'q1': {'question': '5 + 7 = ?',\n",
       "    'options': ['10', '11', '12', '13'],\n",
       "    'answer': '12'},\n",
       "   'q2': {'question': '12 - 8 = ?',\n",
       "    'options': ['1', '2', '3', '4'],\n",
       "    'answer': '4'}}}}"
      ]
     },
     "execution_count": 16,
     "metadata": {},
     "output_type": "execute_result"
    }
   ],
   "source": [
    "data"
   ]
  },
  {
   "cell_type": "code",
   "execution_count": 17,
   "id": "6075a7cd",
   "metadata": {},
   "outputs": [
    {
     "name": "stdout",
     "output_type": "stream",
     "text": [
      "sport\n",
      "maths\n"
     ]
    }
   ],
   "source": [
    "for i in data['quiz']:\n",
    "    print(i)"
   ]
  },
  {
   "cell_type": "code",
   "execution_count": 23,
   "id": "b3dcce40",
   "metadata": {},
   "outputs": [
    {
     "name": "stdout",
     "output_type": "stream",
     "text": [
      "quiz\n"
     ]
    }
   ],
   "source": [
    "for i in data:\n",
    "    print(i)"
   ]
  },
  {
   "cell_type": "code",
   "execution_count": 26,
   "id": "5a5c84cc",
   "metadata": {},
   "outputs": [
    {
     "name": "stdout",
     "output_type": "stream",
     "text": [
      "{'question': 'Which one is correct team name in NBA?', 'options': ['New York Bulls', 'Los Angeles Kings', 'Golden State Warriros', 'Huston Rocket'], 'answer': 'Huston Rocket'}\n"
     ]
    }
   ],
   "source": [
    "print(data['quiz']['sport']['q1'])"
   ]
  },
  {
   "cell_type": "code",
   "execution_count": 27,
   "id": "52a928af",
   "metadata": {},
   "outputs": [
    {
     "name": "stdout",
     "output_type": "stream",
     "text": [
      "{'question': '12 - 8 = ?', 'options': ['1', '2', '3', '4'], 'answer': '4'}\n"
     ]
    }
   ],
   "source": [
    "print(data['quiz']['maths']['q2'])"
   ]
  },
  {
   "cell_type": "code",
   "execution_count": 28,
   "id": "a2edf2c7",
   "metadata": {},
   "outputs": [],
   "source": [
    "a1.close()"
   ]
  },
  {
   "cell_type": "code",
   "execution_count": 34,
   "id": "0430c3c6",
   "metadata": {},
   "outputs": [],
   "source": [
    "x={'name':'tom','age':25,'location':'india'}\n",
    "y=json.dumps(x,indent=2)"
   ]
  },
  {
   "cell_type": "code",
   "execution_count": 35,
   "id": "64d5e1de",
   "metadata": {},
   "outputs": [],
   "source": [
    "with open(\"sample.json\",'w') as outfile:\n",
    "    outfile.write(y)"
   ]
  },
  {
   "cell_type": "code",
   "execution_count": 38,
   "id": "8ed76e01",
   "metadata": {},
   "outputs": [],
   "source": [
    "z=open('sample.json')"
   ]
  },
  {
   "cell_type": "code",
   "execution_count": 39,
   "id": "839679cc",
   "metadata": {},
   "outputs": [],
   "source": [
    "a5=json.load(z)"
   ]
  },
  {
   "cell_type": "code",
   "execution_count": 40,
   "id": "490f8fb9",
   "metadata": {},
   "outputs": [
    {
     "data": {
      "text/plain": [
       "{'name': 'tom', 'age': 25, 'location': 'india'}"
      ]
     },
     "execution_count": 40,
     "metadata": {},
     "output_type": "execute_result"
    }
   ],
   "source": [
    "a5"
   ]
  },
  {
   "cell_type": "code",
   "execution_count": 41,
   "id": "1315bb08",
   "metadata": {},
   "outputs": [
    {
     "data": {
      "text/plain": [
       "dict"
      ]
     },
     "execution_count": 41,
     "metadata": {},
     "output_type": "execute_result"
    }
   ],
   "source": [
    "type(a5)"
   ]
  },
  {
   "cell_type": "code",
   "execution_count": 43,
   "id": "7a7d8982",
   "metadata": {},
   "outputs": [],
   "source": [
    "z.close()"
   ]
  },
  {
   "cell_type": "code",
   "execution_count": null,
   "id": "6793c77b",
   "metadata": {},
   "outputs": [],
   "source": []
  }
 ],
 "metadata": {
  "kernelspec": {
   "display_name": "Python 3",
   "language": "python",
   "name": "python3"
  },
  "language_info": {
   "codemirror_mode": {
    "name": "ipython",
    "version": 3
   },
   "file_extension": ".py",
   "mimetype": "text/x-python",
   "name": "python",
   "nbconvert_exporter": "python",
   "pygments_lexer": "ipython3",
   "version": "3.6.13"
  }
 },
 "nbformat": 4,
 "nbformat_minor": 5
}
