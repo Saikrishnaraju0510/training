{
 "cells": [
  {
   "cell_type": "code",
   "execution_count": 6,
   "id": "57e20827",
   "metadata": {},
   "outputs": [
    {
     "name": "stdout",
     "output_type": "stream",
     "text": [
      "hardwork brings you success\n",
      "hardwork brings you success\n",
      "hardwork brings you success\n",
      "hardwork brings you success\n",
      "hardwork brings you success\n",
      "success brings you joy\n",
      "success brings you joy\n",
      "success brings you joy\n",
      "success brings you joy\n",
      "success brings you joy\n"
     ]
    }
   ],
   "source": [
    "#multi threading\n",
    "class hardwork:\n",
    "    def run(self):\n",
    "        for i in range(5):\n",
    "            print(\"hardwork brings you success\")\n",
    "class success:\n",
    "    def run(self):\n",
    "        for i in range(5):\n",
    "            print(\"success brings you joy\")\n",
    "        \n",
    "a1=hardwork()\n",
    "a2=success()\n",
    "a1.run()\n",
    "a2.run()"
   ]
  },
  {
   "cell_type": "code",
   "execution_count": 7,
   "id": "415e2956",
   "metadata": {},
   "outputs": [
    {
     "name": "stdout",
     "output_type": "stream",
     "text": [
      "hardwork brings you successsuccess brings you joy\n",
      "\n",
      "success brings you joy\n",
      "success brings you joy\n",
      "success brings you joy\n",
      "success brings you joy\n",
      "hardwork brings you success\n",
      "hardwork brings you success\n",
      "hardwork brings you success\n",
      "hardwork brings you success\n"
     ]
    }
   ],
   "source": [
    "#using thread helps in running two functions simultaneoulsy\n",
    "from threading import *\n",
    "class hardwork(Thread):\n",
    "    def run(self):\n",
    "        for i in range(5):\n",
    "            print(\"hardwork brings you success\")\n",
    "class success(Thread):\n",
    "    def run(self):\n",
    "        for i in range(5):\n",
    "            print(\"success brings you joy\")\n",
    "        \n",
    "a1=hardwork()\n",
    "a2=success()\n",
    "a1.start() #we use start to initiate a thread,using run will give same o/p as above\n",
    "a2.start()"
   ]
  },
  {
   "cell_type": "code",
   "execution_count": 8,
   "id": "0be50a1b",
   "metadata": {},
   "outputs": [
    {
     "name": "stdout",
     "output_type": "stream",
     "text": [
      "hardwork brings you success\n",
      "success brings you joydone\n",
      "\n",
      "hardwork brings you success\n",
      "success brings you joy\n",
      "hardwork brings you success\n",
      "success brings you joy\n",
      "hardwork brings you success\n",
      "success brings you joy\n",
      "hardwork brings you success\n",
      "success brings you joy\n"
     ]
    }
   ],
   "source": [
    "#as seen above it is getting overlapped, so to avoid it we bring time into play\n",
    "from time import *\n",
    "from threading import *\n",
    "class hardwork(Thread):\n",
    "    def run(self):\n",
    "        for i in range(5):\n",
    "            print(\"hardwork brings you success\")\n",
    "            sleep(0.5) #it waits for 0.5 sec before executing\n",
    "class success(Thread):\n",
    "    def run(self):\n",
    "        for i in range(5):\n",
    "            print(\"success brings you joy\")\n",
    "            sleep(0.5)\n",
    "        \n",
    "a1=hardwork()\n",
    "a2=success()\n",
    "a1.start() #we use start to initiate a thread,using run will give same o/p as above\n",
    "sleep(0.2)\n",
    "a2.start()\n",
    "print(\"done\")"
   ]
  },
  {
   "cell_type": "code",
   "execution_count": 9,
   "id": "1346136d",
   "metadata": {},
   "outputs": [
    {
     "name": "stdout",
     "output_type": "stream",
     "text": [
      "hardwork brings you success\n",
      "success brings you joy\n",
      "hardwork brings you success\n",
      "success brings you joy\n",
      "hardwork brings you success\n",
      "success brings you joy\n",
      "hardwork brings you success\n",
      "success brings you joy\n",
      "hardwork brings you success\n",
      "success brings you joy\n",
      "done\n"
     ]
    }
   ],
   "source": [
    "#above done is getting printed without completion of full program because main thread is executing it,to stop this we use join\n",
    "from time import *\n",
    "from threading import *\n",
    "class hardwork(Thread):\n",
    "    def run(self):\n",
    "        for i in range(5):\n",
    "            print(\"hardwork brings you success\")\n",
    "            sleep(0.5) #it waits for 0.5 sec before executing\n",
    "class success(Thread):\n",
    "    def run(self):\n",
    "        for i in range(5):\n",
    "            print(\"success brings you joy\")\n",
    "            sleep(0.5)\n",
    "        \n",
    "a1=hardwork()\n",
    "a2=success()\n",
    "a1.start() #we use start to initiate a thread,using run will give same o/p as above\n",
    "sleep(0.2)\n",
    "a2.start()\n",
    "a1.join()\n",
    "a2.join()\n",
    "print(\"done\")"
   ]
  },
  {
   "cell_type": "code",
   "execution_count": 10,
   "id": "f489dd16",
   "metadata": {},
   "outputs": [
    {
     "data": {
      "text/plain": [
       "False"
      ]
     },
     "execution_count": 10,
     "metadata": {},
     "output_type": "execute_result"
    }
   ],
   "source": [
    "a1.is_alive()"
   ]
  },
  {
   "cell_type": "code",
   "execution_count": 11,
   "id": "a5bc2063",
   "metadata": {},
   "outputs": [
    {
     "data": {
      "text/plain": [
       "'Thread-10'"
      ]
     },
     "execution_count": 11,
     "metadata": {},
     "output_type": "execute_result"
    }
   ],
   "source": [
    "a1.getName()"
   ]
  },
  {
   "cell_type": "code",
   "execution_count": 14,
   "id": "ef607c13",
   "metadata": {},
   "outputs": [],
   "source": [
    "import threading"
   ]
  },
  {
   "cell_type": "code",
   "execution_count": 15,
   "id": "d7a5ccee",
   "metadata": {},
   "outputs": [
    {
     "data": {
      "text/plain": [
       "5"
      ]
     },
     "execution_count": 15,
     "metadata": {},
     "output_type": "execute_result"
    }
   ],
   "source": [
    "threading.activeCount()"
   ]
  },
  {
   "cell_type": "code",
   "execution_count": 16,
   "id": "82e39fc0",
   "metadata": {},
   "outputs": [
    {
     "data": {
      "text/plain": [
       "[<_MainThread(MainThread, started 8540)>,\n",
       " <Thread(Thread-4, started daemon 8116)>,\n",
       " <Heartbeat(Thread-5, started daemon 5784)>,\n",
       " <HistorySavingThread(IPythonHistorySavingThread, started 10916)>,\n",
       " <ParentPollerWindows(Thread-3, started daemon 10480)>]"
      ]
     },
     "execution_count": 16,
     "metadata": {},
     "output_type": "execute_result"
    }
   ],
   "source": [
    "threading.enumerate()"
   ]
  },
  {
   "cell_type": "code",
   "execution_count": 17,
   "id": "893d92da",
   "metadata": {},
   "outputs": [
    {
     "data": {
      "text/plain": [
       "<_MainThread(MainThread, started 8540)>"
      ]
     },
     "execution_count": 17,
     "metadata": {},
     "output_type": "execute_result"
    }
   ],
   "source": [
    "threading.currentThread()"
   ]
  },
  {
   "cell_type": "code",
   "execution_count": null,
   "id": "1025fafe",
   "metadata": {},
   "outputs": [],
   "source": [
    "#logging"
   ]
  },
  {
   "cell_type": "code",
   "execution_count": 23,
   "id": "538557d1",
   "metadata": {},
   "outputs": [
    {
     "name": "stdout",
     "output_type": "stream",
     "text": [
      "3\n"
     ]
    }
   ],
   "source": [
    "def add(a,b):\n",
    "    return (a+b)\n",
    "a=1\n",
    "b=2\n",
    "print(add(a,b))"
   ]
  },
  {
   "cell_type": "code",
   "execution_count": 24,
   "id": "6a24e499",
   "metadata": {},
   "outputs": [],
   "source": [
    "import logging\n",
    "def add(a,b):\n",
    "    return (a+b)\n",
    "a=1\n",
    "b=2\n",
    "logging.debug(add(a,b))"
   ]
  },
  {
   "cell_type": "code",
   "execution_count": 25,
   "id": "87beed78",
   "metadata": {},
   "outputs": [
    {
     "name": "stderr",
     "output_type": "stream",
     "text": [
      "WARNING:root:3\n"
     ]
    }
   ],
   "source": [
    "import logging\n",
    "def add(a,b):\n",
    "    return (a+b)\n",
    "a=1\n",
    "b=2\n",
    "logging.warning(add(a,b))"
   ]
  }
 ],
 "metadata": {
  "kernelspec": {
   "display_name": "Python 3",
   "language": "python",
   "name": "python3"
  },
  "language_info": {
   "codemirror_mode": {
    "name": "ipython",
    "version": 3
   },
   "file_extension": ".py",
   "mimetype": "text/x-python",
   "name": "python",
   "nbconvert_exporter": "python",
   "pygments_lexer": "ipython3",
   "version": "3.8.8"
  }
 },
 "nbformat": 4,
 "nbformat_minor": 5
}
