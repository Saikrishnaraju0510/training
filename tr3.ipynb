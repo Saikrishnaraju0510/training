{
 "cells": [
  {
   "cell_type": "code",
   "execution_count": 2,
   "id": "e5963199",
   "metadata": {},
   "outputs": [
    {
     "name": "stdout",
     "output_type": "stream",
     "text": [
      "hello\n",
      "hello\n",
      "hello\n",
      "hello\n",
      "hello\n",
      "hello\n",
      "hello\n",
      "hello\n",
      "hello\n",
      "hello\n",
      "hello\n",
      "hello\n",
      "hello\n",
      "hello\n",
      "hello\n"
     ]
    }
   ],
   "source": [
    "#loops\n",
    "a=5\n",
    "b=15\n",
    "for a in range(0,b):\n",
    "    print(\"hello\")"
   ]
  },
  {
   "cell_type": "code",
   "execution_count": 3,
   "id": "8cc291be",
   "metadata": {},
   "outputs": [
    {
     "name": "stdout",
     "output_type": "stream",
     "text": [
      "i love india\n",
      "i love cricket\n",
      "i love greenary\n"
     ]
    }
   ],
   "source": [
    "a=['india','cricket','greenary']\n",
    "for i in a:\n",
    "    print(\"i love {}\".format(i))"
   ]
  },
  {
   "cell_type": "code",
   "execution_count": 4,
   "id": "b33aae55",
   "metadata": {},
   "outputs": [
    {
     "name": "stdout",
     "output_type": "stream",
     "text": [
      "i love india\n",
      "i love cricket\n",
      "i love greenary\n",
      "all done\n"
     ]
    }
   ],
   "source": [
    "a=['india','cricket','greenary']\n",
    "for i in a:\n",
    "    print(\"i love {}\".format(i))\n",
    "else:\n",
    "    print(\"all done\")"
   ]
  },
  {
   "cell_type": "code",
   "execution_count": 8,
   "id": "a5afd12b",
   "metadata": {},
   "outputs": [
    {
     "name": "stdout",
     "output_type": "stream",
     "text": [
      "krish\n",
      "james\n",
      "peter\n"
     ]
    }
   ],
   "source": [
    "#else will only run if break statement is not executed.\n",
    "students=['krish','james','peter','tony','mark']\n",
    "for i in students:\n",
    "    if i=='tony':\n",
    "        break\n",
    "    print(i)\n",
    "else:\n",
    "    print(\"tony is not there\")"
   ]
  },
  {
   "cell_type": "code",
   "execution_count": 9,
   "id": "8ac0cd02",
   "metadata": {},
   "outputs": [
    {
     "name": "stdout",
     "output_type": "stream",
     "text": [
      "krish\n",
      "james\n",
      "peter\n",
      "tony\n",
      "mark\n",
      "tony is not there\n"
     ]
    }
   ],
   "source": [
    "#else will only run if break statement is not executed.\n",
    "students=['krish','james','peter','tony','mark']\n",
    "for i in students:\n",
    "    if i=='tonystark':\n",
    "        break\n",
    "    print(i)\n",
    "else:\n",
    "    print(\"tony is not there\")"
   ]
  },
  {
   "cell_type": "code",
   "execution_count": 13,
   "id": "829840e5",
   "metadata": {},
   "outputs": [
    {
     "name": "stdout",
     "output_type": "stream",
     "text": [
      "4\n"
     ]
    }
   ],
   "source": [
    "c=0\n",
    "sen=\"this land is suitable for construction\"\n",
    "for i in range (len(sen)):\n",
    "    if(sen[i]=='s'):\n",
    "        c += 1\n",
    "print(c)"
   ]
  },
  {
   "cell_type": "code",
   "execution_count": 17,
   "id": "3ec80e84",
   "metadata": {},
   "outputs": [
    {
     "name": "stdout",
     "output_type": "stream",
     "text": [
      "4\n"
     ]
    }
   ],
   "source": [
    "i=len(sen)\n",
    "d=0\n",
    "while(i):\n",
    "    if (sen[i-1]=='s'):\n",
    "        d += 1\n",
    "    i -= 1\n",
    "print(d)"
   ]
  },
  {
   "cell_type": "code",
   "execution_count": 19,
   "id": "942fe2eb",
   "metadata": {},
   "outputs": [
    {
     "name": "stdout",
     "output_type": "stream",
     "text": [
      "found tony\n"
     ]
    }
   ],
   "source": [
    "while('tony' in students):\n",
    "    print('found tony')\n",
    "    break"
   ]
  },
  {
   "cell_type": "code",
   "execution_count": 22,
   "id": "cb74cd3c",
   "metadata": {},
   "outputs": [
    {
     "name": "stdout",
     "output_type": "stream",
     "text": [
      "0\n",
      "1\n",
      "2\n",
      "3\n",
      "found 4 so leaving this iteration as there is continue command\n",
      "5\n",
      "6\n",
      "7\n",
      "8\n",
      "found 9 so executing break command and exiting\n"
     ]
    }
   ],
   "source": [
    "i=0\n",
    "for i in range(10):\n",
    "    if(i==9):\n",
    "        print(\"found 9 so executing break command and exiting\")\n",
    "        break\n",
    "    if(i==4):\n",
    "        print(\"found 4 so leaving this iteration as there is continue command\")\n",
    "        continue\n",
    "    print(i)"
   ]
  },
  {
   "cell_type": "code",
   "execution_count": 26,
   "id": "176691cd",
   "metadata": {},
   "outputs": [
    {
     "name": "stdout",
     "output_type": "stream",
     "text": [
      "23 not divisible by 2,3,5\n",
      "54 divide by 2\n",
      "55 divide by 5\n",
      "64 divide by 2\n",
      "87 divide by 3\n",
      "89 not divisible by 2,3,5\n",
      "98 divide by 2\n",
      "22 divide by 2\n",
      "54 divide by 2\n",
      "35 divide by 5\n"
     ]
    }
   ],
   "source": [
    "z=[23,54,55,64,87,89,98,22,54,35]\n",
    "for a in z:\n",
    "    if(a%2==0):\n",
    "        print(\"{} divide by 2\".format(a))\n",
    "    elif(a%3==0):\n",
    "        print(\"{} divide by 3\".format(a))\n",
    "    elif(a%5==0):\n",
    "        print(\"{} divide by 5\".format(a))\n",
    "    else:\n",
    "        print(\"{} not divisible by 2,3,5\".format(a))"
   ]
  },
  {
   "cell_type": "code",
   "execution_count": 27,
   "id": "aa9418ff",
   "metadata": {},
   "outputs": [],
   "source": [
    "#dictionaries\n",
    "#empty dictionary\n",
    "empdict={}"
   ]
  },
  {
   "cell_type": "code",
   "execution_count": 29,
   "id": "8529d1b6",
   "metadata": {},
   "outputs": [
    {
     "data": {
      "text/plain": [
       "{1: 'a', 2: 'b', 3: 'c', 4: 'd', 5: 'e', 6: 'f', 7: 'g', 8: 'h'}"
      ]
     },
     "execution_count": 29,
     "metadata": {},
     "output_type": "execute_result"
    }
   ],
   "source": [
    "keys=[1,2,3,4,5,6,7,8]\n",
    "values=['a','b','c','d','e','f','g','h']\n",
    "for i in range(len(keys)):\n",
    "    empdict[keys[i]]=values[i]\n",
    "empdict"
   ]
  },
  {
   "cell_type": "code",
   "execution_count": 30,
   "id": "85c6cfb0",
   "metadata": {},
   "outputs": [
    {
     "data": {
      "text/plain": [
       "'d'"
      ]
     },
     "execution_count": 30,
     "metadata": {},
     "output_type": "execute_result"
    }
   ],
   "source": [
    "empdict.pop(4)"
   ]
  },
  {
   "cell_type": "code",
   "execution_count": 31,
   "id": "3ef2a751",
   "metadata": {},
   "outputs": [
    {
     "data": {
      "text/plain": [
       "{1: 'a', 2: 'b', 3: 'c', 5: 'e', 6: 'f', 7: 'g', 8: 'h'}"
      ]
     },
     "execution_count": 31,
     "metadata": {},
     "output_type": "execute_result"
    }
   ],
   "source": [
    "empdict"
   ]
  },
  {
   "cell_type": "code",
   "execution_count": 32,
   "id": "2955991d",
   "metadata": {},
   "outputs": [
    {
     "data": {
      "text/plain": [
       "(8, 'h')"
      ]
     },
     "execution_count": 32,
     "metadata": {},
     "output_type": "execute_result"
    }
   ],
   "source": [
    "empdict.popitem()"
   ]
  },
  {
   "cell_type": "code",
   "execution_count": 33,
   "id": "ad73e176",
   "metadata": {},
   "outputs": [
    {
     "data": {
      "text/plain": [
       "{1: 'a', 2: 'b', 3: 'c', 5: 'e', 6: 'f', 7: 'g'}"
      ]
     },
     "execution_count": 33,
     "metadata": {},
     "output_type": "execute_result"
    }
   ],
   "source": [
    "empdict"
   ]
  },
  {
   "cell_type": "code",
   "execution_count": 34,
   "id": "ce7d0dac",
   "metadata": {},
   "outputs": [],
   "source": [
    "e1=empdict.copy()"
   ]
  },
  {
   "cell_type": "code",
   "execution_count": 35,
   "id": "207b95b7",
   "metadata": {},
   "outputs": [
    {
     "data": {
      "text/plain": [
       "{1: 'a', 2: 'b', 3: 'c', 5: 'e', 6: 'f', 7: 'g'}"
      ]
     },
     "execution_count": 35,
     "metadata": {},
     "output_type": "execute_result"
    }
   ],
   "source": [
    "e1"
   ]
  },
  {
   "cell_type": "code",
   "execution_count": 36,
   "id": "5d50471f",
   "metadata": {},
   "outputs": [],
   "source": [
    "e1.clear()"
   ]
  },
  {
   "cell_type": "code",
   "execution_count": 37,
   "id": "e4c20e77",
   "metadata": {},
   "outputs": [
    {
     "data": {
      "text/plain": [
       "{}"
      ]
     },
     "execution_count": 37,
     "metadata": {},
     "output_type": "execute_result"
    }
   ],
   "source": [
    "e1"
   ]
  },
  {
   "cell_type": "code",
   "execution_count": 38,
   "id": "c88376fa",
   "metadata": {},
   "outputs": [],
   "source": [
    "del e1"
   ]
  },
  {
   "cell_type": "code",
   "execution_count": 39,
   "id": "3878d9cf",
   "metadata": {},
   "outputs": [
    {
     "ename": "NameError",
     "evalue": "name 'e1' is not defined",
     "output_type": "error",
     "traceback": [
      "\u001b[1;31m---------------------------------------------------------------------------\u001b[0m",
      "\u001b[1;31mNameError\u001b[0m                                 Traceback (most recent call last)",
      "\u001b[1;32m<ipython-input-39-eff9d613b2d7>\u001b[0m in \u001b[0;36m<module>\u001b[1;34m\u001b[0m\n\u001b[1;32m----> 1\u001b[1;33m \u001b[0me1\u001b[0m\u001b[1;33m\u001b[0m\u001b[1;33m\u001b[0m\u001b[0m\n\u001b[0m",
      "\u001b[1;31mNameError\u001b[0m: name 'e1' is not defined"
     ]
    }
   ],
   "source": [
    "e1"
   ]
  },
  {
   "cell_type": "code",
   "execution_count": 41,
   "id": "e7152c2b",
   "metadata": {},
   "outputs": [
    {
     "data": {
      "text/plain": [
       "'b'"
      ]
     },
     "execution_count": 41,
     "metadata": {},
     "output_type": "execute_result"
    }
   ],
   "source": [
    "empdict.get(2)"
   ]
  },
  {
   "cell_type": "code",
   "execution_count": 46,
   "id": "5b3c860d",
   "metadata": {},
   "outputs": [
    {
     "data": {
      "text/plain": [
       "True"
      ]
     },
     "execution_count": 46,
     "metadata": {},
     "output_type": "execute_result"
    }
   ],
   "source": [
    "all(empdict)"
   ]
  },
  {
   "cell_type": "code",
   "execution_count": 47,
   "id": "e04f5470",
   "metadata": {},
   "outputs": [
    {
     "data": {
      "text/plain": [
       "True"
      ]
     },
     "execution_count": 47,
     "metadata": {},
     "output_type": "execute_result"
    }
   ],
   "source": [
    "any(empdict)"
   ]
  },
  {
   "cell_type": "code",
   "execution_count": 48,
   "id": "3ef3b7c2",
   "metadata": {},
   "outputs": [
    {
     "data": {
      "text/plain": [
       "6"
      ]
     },
     "execution_count": 48,
     "metadata": {},
     "output_type": "execute_result"
    }
   ],
   "source": [
    "len(empdict)"
   ]
  },
  {
   "cell_type": "code",
   "execution_count": 49,
   "id": "d98f582e",
   "metadata": {},
   "outputs": [
    {
     "data": {
      "text/plain": [
       "[1, 2, 3, 5, 6, 7]"
      ]
     },
     "execution_count": 49,
     "metadata": {},
     "output_type": "execute_result"
    }
   ],
   "source": [
    "sorted(empdict)"
   ]
  },
  {
   "cell_type": "code",
   "execution_count": null,
   "id": "b095e8fa",
   "metadata": {},
   "outputs": [],
   "source": []
  }
 ],
 "metadata": {
  "kernelspec": {
   "display_name": "Python 3",
   "language": "python",
   "name": "python3"
  },
  "language_info": {
   "codemirror_mode": {
    "name": "ipython",
    "version": 3
   },
   "file_extension": ".py",
   "mimetype": "text/x-python",
   "name": "python",
   "nbconvert_exporter": "python",
   "pygments_lexer": "ipython3",
   "version": "3.8.8"
  }
 },
 "nbformat": 4,
 "nbformat_minor": 5
}
